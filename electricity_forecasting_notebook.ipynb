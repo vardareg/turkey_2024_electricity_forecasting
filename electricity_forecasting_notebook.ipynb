{
 "cells": [
  {
   "cell_type": "code",
   "execution_count": 9,
   "id": "c064c97b",
   "metadata": {},
   "outputs": [
    {
     "name": "stdout",
     "output_type": "stream",
     "text": [
      "Requirement already satisfied: numpy in c:\\users\\egeha\\iyte\\electricity_forecasting_project2\\.venv\\lib\\site-packages (2.3.0)\n",
      "Requirement already satisfied: pandas in c:\\users\\egeha\\iyte\\electricity_forecasting_project2\\.venv\\lib\\site-packages (2.3.0)\n",
      "Requirement already satisfied: matplotlib in c:\\users\\egeha\\iyte\\electricity_forecasting_project2\\.venv\\lib\\site-packages (3.10.3)\n",
      "Requirement already satisfied: scipy in c:\\users\\egeha\\iyte\\electricity_forecasting_project2\\.venv\\lib\\site-packages (1.15.3)\n",
      "Requirement already satisfied: scikit-learn in c:\\users\\egeha\\iyte\\electricity_forecasting_project2\\.venv\\lib\\site-packages (1.7.0)\n",
      "Requirement already satisfied: statsmodels in c:\\users\\egeha\\iyte\\electricity_forecasting_project2\\.venv\\lib\\site-packages (0.14.4)\n",
      "Requirement already satisfied: holidays in c:\\users\\egeha\\iyte\\electricity_forecasting_project2\\.venv\\lib\\site-packages (0.74)\n",
      "Requirement already satisfied: xgboost in c:\\users\\egeha\\iyte\\electricity_forecasting_project2\\.venv\\lib\\site-packages (3.0.2)\n",
      "Requirement already satisfied: jinja2 in c:\\users\\egeha\\iyte\\electricity_forecasting_project2\\.venv\\lib\\site-packages (3.1.6)\n",
      "Requirement already satisfied: ipympl in c:\\users\\egeha\\iyte\\electricity_forecasting_project2\\.venv\\lib\\site-packages (0.9.7)\n",
      "Requirement already satisfied: plotly in c:\\users\\egeha\\iyte\\electricity_forecasting_project2\\.venv\\lib\\site-packages (6.1.2)\n",
      "Requirement already satisfied: python-dateutil>=2.8.2 in c:\\users\\egeha\\iyte\\electricity_forecasting_project2\\.venv\\lib\\site-packages (from pandas) (2.9.0.post0)\n",
      "Requirement already satisfied: pytz>=2020.1 in c:\\users\\egeha\\iyte\\electricity_forecasting_project2\\.venv\\lib\\site-packages (from pandas) (2025.2)\n",
      "Requirement already satisfied: tzdata>=2022.7 in c:\\users\\egeha\\iyte\\electricity_forecasting_project2\\.venv\\lib\\site-packages (from pandas) (2025.2)\n",
      "Requirement already satisfied: contourpy>=1.0.1 in c:\\users\\egeha\\iyte\\electricity_forecasting_project2\\.venv\\lib\\site-packages (from matplotlib) (1.3.2)\n",
      "Requirement already satisfied: cycler>=0.10 in c:\\users\\egeha\\iyte\\electricity_forecasting_project2\\.venv\\lib\\site-packages (from matplotlib) (0.12.1)\n",
      "Requirement already satisfied: fonttools>=4.22.0 in c:\\users\\egeha\\iyte\\electricity_forecasting_project2\\.venv\\lib\\site-packages (from matplotlib) (4.58.2)\n",
      "Requirement already satisfied: kiwisolver>=1.3.1 in c:\\users\\egeha\\iyte\\electricity_forecasting_project2\\.venv\\lib\\site-packages (from matplotlib) (1.4.8)\n",
      "Requirement already satisfied: packaging>=20.0 in c:\\users\\egeha\\iyte\\electricity_forecasting_project2\\.venv\\lib\\site-packages (from matplotlib) (25.0)\n",
      "Requirement already satisfied: pillow>=8 in c:\\users\\egeha\\iyte\\electricity_forecasting_project2\\.venv\\lib\\site-packages (from matplotlib) (11.2.1)\n",
      "Requirement already satisfied: pyparsing>=2.3.1 in c:\\users\\egeha\\iyte\\electricity_forecasting_project2\\.venv\\lib\\site-packages (from matplotlib) (3.2.3)\n",
      "Requirement already satisfied: joblib>=1.2.0 in c:\\users\\egeha\\iyte\\electricity_forecasting_project2\\.venv\\lib\\site-packages (from scikit-learn) (1.5.1)\n",
      "Requirement already satisfied: threadpoolctl>=3.1.0 in c:\\users\\egeha\\iyte\\electricity_forecasting_project2\\.venv\\lib\\site-packages (from scikit-learn) (3.6.0)\n",
      "Requirement already satisfied: patsy>=0.5.6 in c:\\users\\egeha\\iyte\\electricity_forecasting_project2\\.venv\\lib\\site-packages (from statsmodels) (1.0.1)\n",
      "Requirement already satisfied: MarkupSafe>=2.0 in c:\\users\\egeha\\iyte\\electricity_forecasting_project2\\.venv\\lib\\site-packages (from jinja2) (3.0.2)\n",
      "Requirement already satisfied: ipython<10 in c:\\users\\egeha\\iyte\\electricity_forecasting_project2\\.venv\\lib\\site-packages (from ipympl) (9.3.0)\n",
      "Requirement already satisfied: ipywidgets<9,>=7.6.0 in c:\\users\\egeha\\iyte\\electricity_forecasting_project2\\.venv\\lib\\site-packages (from ipympl) (8.1.7)\n",
      "Requirement already satisfied: traitlets<6 in c:\\users\\egeha\\iyte\\electricity_forecasting_project2\\.venv\\lib\\site-packages (from ipympl) (5.14.3)\n",
      "Requirement already satisfied: narwhals>=1.15.1 in c:\\users\\egeha\\iyte\\electricity_forecasting_project2\\.venv\\lib\\site-packages (from plotly) (1.42.0)\n",
      "Requirement already satisfied: colorama in c:\\users\\egeha\\iyte\\electricity_forecasting_project2\\.venv\\lib\\site-packages (from ipython<10->ipympl) (0.4.6)\n",
      "Requirement already satisfied: decorator in c:\\users\\egeha\\iyte\\electricity_forecasting_project2\\.venv\\lib\\site-packages (from ipython<10->ipympl) (5.2.1)\n",
      "Requirement already satisfied: ipython-pygments-lexers in c:\\users\\egeha\\iyte\\electricity_forecasting_project2\\.venv\\lib\\site-packages (from ipython<10->ipympl) (1.1.1)\n",
      "Requirement already satisfied: jedi>=0.16 in c:\\users\\egeha\\iyte\\electricity_forecasting_project2\\.venv\\lib\\site-packages (from ipython<10->ipympl) (0.19.2)\n",
      "Requirement already satisfied: matplotlib-inline in c:\\users\\egeha\\iyte\\electricity_forecasting_project2\\.venv\\lib\\site-packages (from ipython<10->ipympl) (0.1.7)\n",
      "Requirement already satisfied: prompt_toolkit<3.1.0,>=3.0.41 in c:\\users\\egeha\\iyte\\electricity_forecasting_project2\\.venv\\lib\\site-packages (from ipython<10->ipympl) (3.0.51)\n",
      "Requirement already satisfied: pygments>=2.4.0 in c:\\users\\egeha\\iyte\\electricity_forecasting_project2\\.venv\\lib\\site-packages (from ipython<10->ipympl) (2.19.1)\n",
      "Requirement already satisfied: stack_data in c:\\users\\egeha\\iyte\\electricity_forecasting_project2\\.venv\\lib\\site-packages (from ipython<10->ipympl) (0.6.3)\n",
      "Requirement already satisfied: comm>=0.1.3 in c:\\users\\egeha\\iyte\\electricity_forecasting_project2\\.venv\\lib\\site-packages (from ipywidgets<9,>=7.6.0->ipympl) (0.2.2)\n",
      "Requirement already satisfied: widgetsnbextension~=4.0.14 in c:\\users\\egeha\\iyte\\electricity_forecasting_project2\\.venv\\lib\\site-packages (from ipywidgets<9,>=7.6.0->ipympl) (4.0.14)\n",
      "Requirement already satisfied: jupyterlab_widgets~=3.0.15 in c:\\users\\egeha\\iyte\\electricity_forecasting_project2\\.venv\\lib\\site-packages (from ipywidgets<9,>=7.6.0->ipympl) (3.0.15)\n",
      "Requirement already satisfied: six>=1.5 in c:\\users\\egeha\\iyte\\electricity_forecasting_project2\\.venv\\lib\\site-packages (from python-dateutil>=2.8.2->pandas) (1.17.0)\n",
      "Requirement already satisfied: parso<0.9.0,>=0.8.4 in c:\\users\\egeha\\iyte\\electricity_forecasting_project2\\.venv\\lib\\site-packages (from jedi>=0.16->ipython<10->ipympl) (0.8.4)\n",
      "Requirement already satisfied: wcwidth in c:\\users\\egeha\\iyte\\electricity_forecasting_project2\\.venv\\lib\\site-packages (from prompt_toolkit<3.1.0,>=3.0.41->ipython<10->ipympl) (0.2.13)\n",
      "Requirement already satisfied: executing>=1.2.0 in c:\\users\\egeha\\iyte\\electricity_forecasting_project2\\.venv\\lib\\site-packages (from stack_data->ipython<10->ipympl) (2.2.0)\n",
      "Requirement already satisfied: asttokens>=2.1.0 in c:\\users\\egeha\\iyte\\electricity_forecasting_project2\\.venv\\lib\\site-packages (from stack_data->ipython<10->ipympl) (3.0.0)\n",
      "Requirement already satisfied: pure-eval in c:\\users\\egeha\\iyte\\electricity_forecasting_project2\\.venv\\lib\\site-packages (from stack_data->ipython<10->ipympl) (0.2.3)\n",
      "Note: you may need to restart the kernel to use updated packages.\n"
     ]
    },
    {
     "name": "stderr",
     "output_type": "stream",
     "text": [
      "\n",
      "[notice] A new release of pip is available: 24.3.1 -> 25.1.1\n",
      "[notice] To update, run: python.exe -m pip install --upgrade pip\n"
     ]
    },
    {
     "name": "stdout",
     "output_type": "stream",
     "text": [
      "Requirement already satisfied: nbformat in c:\\users\\egeha\\iyte\\electricity_forecasting_project2\\.venv\\lib\\site-packages (5.10.4)\n",
      "Requirement already satisfied: ipywidgets in c:\\users\\egeha\\iyte\\electricity_forecasting_project2\\.venv\\lib\\site-packages (8.1.7)\n",
      "Requirement already satisfied: fastjsonschema>=2.15 in c:\\users\\egeha\\iyte\\electricity_forecasting_project2\\.venv\\lib\\site-packages (from nbformat) (2.21.1)\n",
      "Requirement already satisfied: jsonschema>=2.6 in c:\\users\\egeha\\iyte\\electricity_forecasting_project2\\.venv\\lib\\site-packages (from nbformat) (4.24.0)\n",
      "Requirement already satisfied: jupyter-core!=5.0.*,>=4.12 in c:\\users\\egeha\\iyte\\electricity_forecasting_project2\\.venv\\lib\\site-packages (from nbformat) (5.8.1)\n",
      "Requirement already satisfied: traitlets>=5.1 in c:\\users\\egeha\\iyte\\electricity_forecasting_project2\\.venv\\lib\\site-packages (from nbformat) (5.14.3)\n",
      "Requirement already satisfied: comm>=0.1.3 in c:\\users\\egeha\\iyte\\electricity_forecasting_project2\\.venv\\lib\\site-packages (from ipywidgets) (0.2.2)\n",
      "Requirement already satisfied: ipython>=6.1.0 in c:\\users\\egeha\\iyte\\electricity_forecasting_project2\\.venv\\lib\\site-packages (from ipywidgets) (9.3.0)\n",
      "Requirement already satisfied: widgetsnbextension~=4.0.14 in c:\\users\\egeha\\iyte\\electricity_forecasting_project2\\.venv\\lib\\site-packages (from ipywidgets) (4.0.14)\n",
      "Requirement already satisfied: jupyterlab_widgets~=3.0.15 in c:\\users\\egeha\\iyte\\electricity_forecasting_project2\\.venv\\lib\\site-packages (from ipywidgets) (3.0.15)\n",
      "Requirement already satisfied: colorama in c:\\users\\egeha\\iyte\\electricity_forecasting_project2\\.venv\\lib\\site-packages (from ipython>=6.1.0->ipywidgets) (0.4.6)\n",
      "Requirement already satisfied: decorator in c:\\users\\egeha\\iyte\\electricity_forecasting_project2\\.venv\\lib\\site-packages (from ipython>=6.1.0->ipywidgets) (5.2.1)\n",
      "Requirement already satisfied: ipython-pygments-lexers in c:\\users\\egeha\\iyte\\electricity_forecasting_project2\\.venv\\lib\\site-packages (from ipython>=6.1.0->ipywidgets) (1.1.1)\n",
      "Requirement already satisfied: jedi>=0.16 in c:\\users\\egeha\\iyte\\electricity_forecasting_project2\\.venv\\lib\\site-packages (from ipython>=6.1.0->ipywidgets) (0.19.2)\n",
      "Requirement already satisfied: matplotlib-inline in c:\\users\\egeha\\iyte\\electricity_forecasting_project2\\.venv\\lib\\site-packages (from ipython>=6.1.0->ipywidgets) (0.1.7)\n",
      "Requirement already satisfied: prompt_toolkit<3.1.0,>=3.0.41 in c:\\users\\egeha\\iyte\\electricity_forecasting_project2\\.venv\\lib\\site-packages (from ipython>=6.1.0->ipywidgets) (3.0.51)\n",
      "Requirement already satisfied: pygments>=2.4.0 in c:\\users\\egeha\\iyte\\electricity_forecasting_project2\\.venv\\lib\\site-packages (from ipython>=6.1.0->ipywidgets) (2.19.1)\n",
      "Requirement already satisfied: stack_data in c:\\users\\egeha\\iyte\\electricity_forecasting_project2\\.venv\\lib\\site-packages (from ipython>=6.1.0->ipywidgets) (0.6.3)\n",
      "Requirement already satisfied: attrs>=22.2.0 in c:\\users\\egeha\\iyte\\electricity_forecasting_project2\\.venv\\lib\\site-packages (from jsonschema>=2.6->nbformat) (25.3.0)\n",
      "Requirement already satisfied: jsonschema-specifications>=2023.03.6 in c:\\users\\egeha\\iyte\\electricity_forecasting_project2\\.venv\\lib\\site-packages (from jsonschema>=2.6->nbformat) (2025.4.1)\n",
      "Requirement already satisfied: referencing>=0.28.4 in c:\\users\\egeha\\iyte\\electricity_forecasting_project2\\.venv\\lib\\site-packages (from jsonschema>=2.6->nbformat) (0.36.2)\n",
      "Requirement already satisfied: rpds-py>=0.7.1 in c:\\users\\egeha\\iyte\\electricity_forecasting_project2\\.venv\\lib\\site-packages (from jsonschema>=2.6->nbformat) (0.25.1)\n",
      "Requirement already satisfied: platformdirs>=2.5 in c:\\users\\egeha\\iyte\\electricity_forecasting_project2\\.venv\\lib\\site-packages (from jupyter-core!=5.0.*,>=4.12->nbformat) (4.3.8)\n",
      "Requirement already satisfied: pywin32>=300 in c:\\users\\egeha\\iyte\\electricity_forecasting_project2\\.venv\\lib\\site-packages (from jupyter-core!=5.0.*,>=4.12->nbformat) (310)\n",
      "Requirement already satisfied: parso<0.9.0,>=0.8.4 in c:\\users\\egeha\\iyte\\electricity_forecasting_project2\\.venv\\lib\\site-packages (from jedi>=0.16->ipython>=6.1.0->ipywidgets) (0.8.4)\n",
      "Requirement already satisfied: wcwidth in c:\\users\\egeha\\iyte\\electricity_forecasting_project2\\.venv\\lib\\site-packages (from prompt_toolkit<3.1.0,>=3.0.41->ipython>=6.1.0->ipywidgets) (0.2.13)\n",
      "Requirement already satisfied: executing>=1.2.0 in c:\\users\\egeha\\iyte\\electricity_forecasting_project2\\.venv\\lib\\site-packages (from stack_data->ipython>=6.1.0->ipywidgets) (2.2.0)\n",
      "Requirement already satisfied: asttokens>=2.1.0 in c:\\users\\egeha\\iyte\\electricity_forecasting_project2\\.venv\\lib\\site-packages (from stack_data->ipython>=6.1.0->ipywidgets) (3.0.0)\n",
      "Requirement already satisfied: pure-eval in c:\\users\\egeha\\iyte\\electricity_forecasting_project2\\.venv\\lib\\site-packages (from stack_data->ipython>=6.1.0->ipywidgets) (0.2.3)\n",
      "Note: you may need to restart the kernel to use updated packages.\n",
      "The ipympl module is not an IPython extension.\n"
     ]
    },
    {
     "name": "stderr",
     "output_type": "stream",
     "text": [
      "\n",
      "[notice] A new release of pip is available: 24.3.1 -> 25.1.1\n",
      "[notice] To update, run: python.exe -m pip install --upgrade pip\n"
     ]
    }
   ],
   "source": [
    "# Requirements\n",
    "%pip install numpy pandas matplotlib scipy scikit-learn statsmodels holidays xgboost jinja2 ipympl plotly\n",
    "%pip install --upgrade nbformat ipywidgets \n",
    "%load_ext ipympl                 \n",
    "%matplotlib widget               "
   ]
  },
  {
   "cell_type": "code",
   "execution_count": 10,
   "id": "cb87be6c",
   "metadata": {},
   "outputs": [],
   "source": [
    "import numpy as np\n",
    "import pandas as pd\n",
    "import matplotlib.pyplot as plt\n",
    "from scipy.stats import zscore\n",
    "from sklearn.metrics import mean_absolute_error, mean_squared_error\n",
    "from sklearn.preprocessing import OneHotEncoder\n",
    "from sklearn.compose import ColumnTransformer\n",
    "from sklearn.pipeline import Pipeline\n",
    "from sklearn.impute import SimpleImputer\n",
    "from sklearn.linear_model import Ridge\n",
    "from sklearn.ensemble import RandomForestRegressor\n",
    "import holidays\n",
    "from sklearn.metrics import r2_score\n",
    "import plotly.graph_objects as go\n",
    "import importlib, plotly.io as pio\n",
    "importlib.reload(pio)\n",
    "from xgboost import XGBRegressor\n",
    "_xgb_available = True\n",
    "\n",
    "plt.style.use('ggplot')\n"
   ]
  },
  {
   "cell_type": "code",
   "execution_count": 11,
   "id": "a2d80d47",
   "metadata": {},
   "outputs": [],
   "source": [
    "\n",
    "# Data Processing\n",
    "def load_raw(path: str):\n",
    "    df = pd.read_csv(path, sep=';', encoding='utf-8', dtype=str)\n",
    "    df.columns = ['Tarih', 'Saat', 'Tüketim Miktarı (MWh)']\n",
    "    df['Tüketim Miktarı (MWh)'] = (df['Tüketim Miktarı (MWh)']\n",
    "         .str.replace('.', '', regex=False)\n",
    "         .str.replace(',', '.', regex=False))\n",
    "    df['Tüketim Miktarı (MWh)'] = pd.to_numeric(df['Tüketim Miktarı (MWh)'], errors='coerce')\n",
    "    df['Tarih'] = pd.to_datetime(df['Tarih'], format='%d.%m.%Y', errors='coerce')\n",
    "    df.dropna(subset=['Tarih', 'Tüketim Miktarı (MWh)'], inplace=True)\n",
    "    return df\n",
    "\n",
    "def aggregate_daily(df):\n",
    "    out = (df.groupby('Tarih', as_index=False)['Tüketim Miktarı (MWh)'].sum()\n",
    "             .rename(columns={'Tarih':'Date','Tüketim Miktarı (MWh)':'consumption_mwh'}))\n",
    "    out.sort_values('Date', inplace=True)\n",
    "    return out\n",
    "\n",
    "def add_calendar_features(df):\n",
    "    df['day_of_week'] = df['Date'].dt.dayofweek\n",
    "    df['is_weekend']  = df['day_of_week'].isin([5,6]).astype(int)\n",
    "    df['month']       = df['Date'].dt.month\n",
    "    df['day_of_year'] = df['Date'].dt.dayofyear\n",
    "    df['sin_doy'] = np.sin(2*np.pi*df['day_of_year']/365)\n",
    "    df['cos_doy'] = np.cos(2*np.pi*df['day_of_year']/365)\n",
    "    tr_holidays = holidays.Turkey(years=range(df['Date'].dt.year.min(),\n",
    "                                              df['Date'].dt.year.max()+1))\n",
    "    df['is_holiday'] = df['Date'].isin(tr_holidays).astype(int)\n",
    "    return df\n",
    "\n",
    "def add_lag_features(df, lags=(1,7,30,365)):\n",
    "    for lag in lags:\n",
    "        df[f'lag_{lag}'] = df['consumption_mwh'].shift(lag)\n",
    "    for win in (7,30):\n",
    "        df[f'rolling_mean_{win}'] = df['consumption_mwh'].rolling(win).mean()\n",
    "        df[f'rolling_std_{win}']  = df['consumption_mwh'].rolling(win).std()\n",
    "    return df\n",
    "\n",
    "def build_dataset(csv_path, drop_outliers=False): \n",
    "    raw = load_raw(csv_path)\n",
    "    daily = aggregate_daily(raw)\n",
    "    if drop_outliers:\n",
    "        daily = daily[np.abs(zscore(daily['consumption_mwh'])) < 3]\n",
    "    daily = add_calendar_features(daily)\n",
    "    daily = add_lag_features(daily)\n",
    "    daily.interpolate(method='linear', inplace=True)\n",
    "    daily.dropna(inplace=True)\n",
    "    return daily\n"
   ]
  },
  {
   "cell_type": "code",
   "execution_count": 12,
   "id": "808a104e",
   "metadata": {},
   "outputs": [],
   "source": [
    "\n",
    "# Model Helper Func\n",
    "\n",
    "def train_models(train):\n",
    "    cat_feats = ['month','day_of_week']\n",
    "    num_feats = [c for c in train.columns if c not in ['Date','consumption_mwh']+cat_feats]\n",
    "\n",
    "    num_pipe = Pipeline([('imp', SimpleImputer(strategy='median'))])\n",
    "    cat_pipe = Pipeline([('imp', SimpleImputer(strategy='most_frequent')),\n",
    "                         ('ohe', OneHotEncoder(handle_unknown='ignore'))])\n",
    "    pre = ColumnTransformer([('num',num_pipe,num_feats),\n",
    "                             ('cat',cat_pipe,cat_feats)])\n",
    "\n",
    "    models={'Ridge': Ridge(alpha=1.0, random_state=42),\n",
    "            'RandomForest': RandomForestRegressor(n_estimators=300,\n",
    "                                                  random_state=42, n_jobs=-1)}\n",
    "    if _xgb_available:\n",
    "        models['XGB'] = XGBRegressor(n_estimators=400, learning_rate=0.05,\n",
    "                                     max_depth=6, subsample=0.8,\n",
    "                                     colsample_bytree=0.8,\n",
    "                                     objective='reg:squarederror',\n",
    "                                     random_state=42, n_jobs=-1)\n",
    "\n",
    "    fitted={}\n",
    "    X_train=train.drop(columns=['consumption_mwh','Date']); y_train=train['consumption_mwh']\n",
    "    for n,est in models.items():\n",
    "        pipe=Pipeline([('pre',pre),('model',est)])\n",
    "        print('Training',n)\n",
    "        pipe.fit(X_train,y_train)\n",
    "        fitted[n]=pipe\n",
    "    return fitted"
   ]
  },
  {
   "cell_type": "code",
   "execution_count": 13,
   "id": "31c53116",
   "metadata": {},
   "outputs": [],
   "source": [
    "# Model Helper Func 2\n",
    "\n",
    "def _interactive_line(df_true, df_pred, name):\n",
    "    \"\"\"Return a Plotly Figure with actual vs. predicted lines.\"\"\"\n",
    "    fig = go.Figure()\n",
    "    fig.add_trace(go.Scatter(\n",
    "        x=df_true['Date'], y=df_true['consumption_mwh'],\n",
    "        mode='lines', name='Actual'\n",
    "    ))\n",
    "    fig.add_trace(go.Scatter(\n",
    "        x=df_true['Date'], y=df_pred,\n",
    "        mode='lines', name=name, opacity=0.7\n",
    "    ))\n",
    "    fig.update_layout(\n",
    "        title=f'{name} – Test Forecast',\n",
    "        xaxis_title='Date', yaxis_title='MWh',\n",
    "        template='plotly_white',\n",
    "        hovermode='x unified'\n",
    "    )\n",
    "    return fig\n",
    "\n",
    "def evaluate(models, test):\n",
    "    \"\"\"Return DataFrame of metrics and show interactive plots.\"\"\"\n",
    "    X_test=test.drop(columns=['consumption_mwh','Date']); y_true=test['consumption_mwh']\n",
    "    res=[]\n",
    "    for n,pipe in models.items():\n",
    "        y_pred=pipe.predict(X_test)\n",
    "        res.append({\n",
    "            'model':   n,\n",
    "            'MAE':     mean_absolute_error(y_true,y_pred),\n",
    "            'RMSE':    np.sqrt(mean_squared_error(y_true,y_pred)),\n",
    "            'MAPE_%':  np.mean(np.abs((y_true-y_pred)/y_true))*100,\n",
    "            'sMAPE_%': 100/len(y_true)*np.sum(\n",
    "                            2*np.abs(y_pred-y_true)/(np.abs(y_true)+np.abs(y_pred))),\n",
    "            'R2':      r2_score(y_true, y_pred)\n",
    "        })\n",
    "        _interactive_line(test[['Date','consumption_mwh']], y_pred, n).show()\n",
    "    return pd.DataFrame(res)\n"
   ]
  },
  {
   "cell_type": "code",
   "execution_count": 14,
   "id": "56a62670",
   "metadata": {},
   "outputs": [
    {
     "name": "stderr",
     "output_type": "stream",
     "text": [
      "C:\\Users\\egeha\\AppData\\Local\\Temp\\ipykernel_22636\\3238851677.py:28: FutureWarning:\n",
      "\n",
      "The behavior of 'isin' with dtype=datetime64[ns] and castable values (e.g. strings) is deprecated. In a future version, these will not be considered matching by isin. Explicitly cast to the appropriate dtype before calling isin instead.\n",
      "\n"
     ]
    },
    {
     "name": "stdout",
     "output_type": "stream",
     "text": [
      "Training Ridge\n",
      "Training RandomForest\n",
      "Training XGB\n"
     ]
    },
    {
     "data": {
      "application/vnd.plotly.v1+json": {
       "config": {
        "plotlyServerURL": "https://plot.ly"
       },
       "data": [
        {
         "mode": "lines",
         "name": "Actual",
         "type": "scatter",
         "x": [
          "2024-01-01T00:00:00.000000000",
          "2024-01-02T00:00:00.000000000",
          "2024-01-03T00:00:00.000000000",
          "2024-01-04T00:00:00.000000000",
          "2024-01-05T00:00:00.000000000",
          "2024-01-06T00:00:00.000000000",
          "2024-01-07T00:00:00.000000000",
          "2024-01-08T00:00:00.000000000",
          "2024-01-09T00:00:00.000000000",
          "2024-01-10T00:00:00.000000000",
          "2024-01-11T00:00:00.000000000",
          "2024-01-12T00:00:00.000000000",
          "2024-01-13T00:00:00.000000000",
          "2024-01-14T00:00:00.000000000",
          "2024-01-15T00:00:00.000000000",
          "2024-01-16T00:00:00.000000000",
          "2024-01-17T00:00:00.000000000",
          "2024-01-18T00:00:00.000000000",
          "2024-01-19T00:00:00.000000000",
          "2024-01-20T00:00:00.000000000",
          "2024-01-21T00:00:00.000000000",
          "2024-01-22T00:00:00.000000000",
          "2024-01-23T00:00:00.000000000",
          "2024-01-24T00:00:00.000000000",
          "2024-01-25T00:00:00.000000000",
          "2024-01-26T00:00:00.000000000",
          "2024-01-27T00:00:00.000000000",
          "2024-01-28T00:00:00.000000000",
          "2024-01-29T00:00:00.000000000",
          "2024-01-30T00:00:00.000000000",
          "2024-01-31T00:00:00.000000000",
          "2024-02-01T00:00:00.000000000",
          "2024-02-02T00:00:00.000000000",
          "2024-02-03T00:00:00.000000000",
          "2024-02-04T00:00:00.000000000",
          "2024-02-05T00:00:00.000000000",
          "2024-02-06T00:00:00.000000000",
          "2024-02-07T00:00:00.000000000",
          "2024-02-08T00:00:00.000000000",
          "2024-02-09T00:00:00.000000000",
          "2024-02-10T00:00:00.000000000",
          "2024-02-11T00:00:00.000000000",
          "2024-02-12T00:00:00.000000000",
          "2024-02-13T00:00:00.000000000",
          "2024-02-14T00:00:00.000000000",
          "2024-02-15T00:00:00.000000000",
          "2024-02-16T00:00:00.000000000",
          "2024-02-17T00:00:00.000000000",
          "2024-02-18T00:00:00.000000000",
          "2024-02-19T00:00:00.000000000",
          "2024-02-20T00:00:00.000000000",
          "2024-02-21T00:00:00.000000000",
          "2024-02-22T00:00:00.000000000",
          "2024-02-23T00:00:00.000000000",
          "2024-02-24T00:00:00.000000000",
          "2024-02-25T00:00:00.000000000",
          "2024-02-26T00:00:00.000000000",
          "2024-02-27T00:00:00.000000000",
          "2024-02-28T00:00:00.000000000",
          "2024-02-29T00:00:00.000000000",
          "2024-03-01T00:00:00.000000000",
          "2024-03-02T00:00:00.000000000",
          "2024-03-03T00:00:00.000000000",
          "2024-03-04T00:00:00.000000000",
          "2024-03-05T00:00:00.000000000",
          "2024-03-06T00:00:00.000000000",
          "2024-03-07T00:00:00.000000000",
          "2024-03-08T00:00:00.000000000",
          "2024-03-09T00:00:00.000000000",
          "2024-03-10T00:00:00.000000000",
          "2024-03-11T00:00:00.000000000",
          "2024-03-12T00:00:00.000000000",
          "2024-03-13T00:00:00.000000000",
          "2024-03-14T00:00:00.000000000",
          "2024-03-15T00:00:00.000000000",
          "2024-03-16T00:00:00.000000000",
          "2024-03-17T00:00:00.000000000",
          "2024-03-18T00:00:00.000000000",
          "2024-03-19T00:00:00.000000000",
          "2024-03-20T00:00:00.000000000",
          "2024-03-21T00:00:00.000000000",
          "2024-03-22T00:00:00.000000000",
          "2024-03-23T00:00:00.000000000",
          "2024-03-24T00:00:00.000000000",
          "2024-03-25T00:00:00.000000000",
          "2024-03-26T00:00:00.000000000",
          "2024-03-27T00:00:00.000000000",
          "2024-03-28T00:00:00.000000000",
          "2024-03-29T00:00:00.000000000",
          "2024-03-30T00:00:00.000000000",
          "2024-03-31T00:00:00.000000000",
          "2024-04-01T00:00:00.000000000",
          "2024-04-02T00:00:00.000000000",
          "2024-04-03T00:00:00.000000000",
          "2024-04-04T00:00:00.000000000",
          "2024-04-05T00:00:00.000000000",
          "2024-04-06T00:00:00.000000000",
          "2024-04-07T00:00:00.000000000",
          "2024-04-08T00:00:00.000000000",
          "2024-04-09T00:00:00.000000000",
          "2024-04-10T00:00:00.000000000",
          "2024-04-11T00:00:00.000000000",
          "2024-04-12T00:00:00.000000000",
          "2024-04-13T00:00:00.000000000",
          "2024-04-14T00:00:00.000000000",
          "2024-04-15T00:00:00.000000000",
          "2024-04-16T00:00:00.000000000",
          "2024-04-17T00:00:00.000000000",
          "2024-04-18T00:00:00.000000000",
          "2024-04-19T00:00:00.000000000",
          "2024-04-20T00:00:00.000000000",
          "2024-04-21T00:00:00.000000000",
          "2024-04-22T00:00:00.000000000",
          "2024-04-23T00:00:00.000000000",
          "2024-04-24T00:00:00.000000000",
          "2024-04-25T00:00:00.000000000",
          "2024-04-26T00:00:00.000000000",
          "2024-04-27T00:00:00.000000000",
          "2024-04-28T00:00:00.000000000",
          "2024-04-29T00:00:00.000000000",
          "2024-04-30T00:00:00.000000000",
          "2024-05-01T00:00:00.000000000",
          "2024-05-02T00:00:00.000000000",
          "2024-05-03T00:00:00.000000000",
          "2024-05-04T00:00:00.000000000",
          "2024-05-05T00:00:00.000000000",
          "2024-05-06T00:00:00.000000000",
          "2024-05-07T00:00:00.000000000",
          "2024-05-08T00:00:00.000000000",
          "2024-05-09T00:00:00.000000000",
          "2024-05-10T00:00:00.000000000",
          "2024-05-11T00:00:00.000000000",
          "2024-05-12T00:00:00.000000000",
          "2024-05-13T00:00:00.000000000",
          "2024-05-14T00:00:00.000000000",
          "2024-05-15T00:00:00.000000000",
          "2024-05-16T00:00:00.000000000",
          "2024-05-17T00:00:00.000000000",
          "2024-05-18T00:00:00.000000000",
          "2024-05-19T00:00:00.000000000",
          "2024-05-20T00:00:00.000000000",
          "2024-05-21T00:00:00.000000000",
          "2024-05-22T00:00:00.000000000",
          "2024-05-23T00:00:00.000000000",
          "2024-05-24T00:00:00.000000000",
          "2024-05-25T00:00:00.000000000",
          "2024-05-26T00:00:00.000000000",
          "2024-05-27T00:00:00.000000000",
          "2024-05-28T00:00:00.000000000",
          "2024-05-29T00:00:00.000000000",
          "2024-05-30T00:00:00.000000000",
          "2024-05-31T00:00:00.000000000",
          "2024-06-01T00:00:00.000000000",
          "2024-06-02T00:00:00.000000000",
          "2024-06-03T00:00:00.000000000",
          "2024-06-04T00:00:00.000000000",
          "2024-06-05T00:00:00.000000000",
          "2024-06-06T00:00:00.000000000",
          "2024-06-07T00:00:00.000000000",
          "2024-06-08T00:00:00.000000000",
          "2024-06-09T00:00:00.000000000",
          "2024-06-10T00:00:00.000000000",
          "2024-06-11T00:00:00.000000000",
          "2024-06-12T00:00:00.000000000",
          "2024-06-13T00:00:00.000000000",
          "2024-06-14T00:00:00.000000000",
          "2024-06-15T00:00:00.000000000",
          "2024-06-16T00:00:00.000000000",
          "2024-06-17T00:00:00.000000000",
          "2024-06-18T00:00:00.000000000",
          "2024-06-19T00:00:00.000000000",
          "2024-06-20T00:00:00.000000000",
          "2024-06-21T00:00:00.000000000",
          "2024-06-22T00:00:00.000000000",
          "2024-06-23T00:00:00.000000000",
          "2024-06-24T00:00:00.000000000",
          "2024-06-25T00:00:00.000000000",
          "2024-06-26T00:00:00.000000000",
          "2024-06-27T00:00:00.000000000",
          "2024-06-28T00:00:00.000000000",
          "2024-06-29T00:00:00.000000000",
          "2024-06-30T00:00:00.000000000",
          "2024-07-01T00:00:00.000000000",
          "2024-07-02T00:00:00.000000000",
          "2024-07-03T00:00:00.000000000",
          "2024-07-04T00:00:00.000000000",
          "2024-07-05T00:00:00.000000000",
          "2024-07-06T00:00:00.000000000",
          "2024-07-07T00:00:00.000000000",
          "2024-07-08T00:00:00.000000000",
          "2024-07-09T00:00:00.000000000",
          "2024-07-10T00:00:00.000000000",
          "2024-07-11T00:00:00.000000000",
          "2024-07-12T00:00:00.000000000",
          "2024-07-13T00:00:00.000000000",
          "2024-07-14T00:00:00.000000000",
          "2024-07-15T00:00:00.000000000",
          "2024-07-16T00:00:00.000000000",
          "2024-07-17T00:00:00.000000000",
          "2024-07-18T00:00:00.000000000",
          "2024-07-19T00:00:00.000000000",
          "2024-07-20T00:00:00.000000000",
          "2024-07-21T00:00:00.000000000",
          "2024-07-22T00:00:00.000000000",
          "2024-07-23T00:00:00.000000000",
          "2024-07-24T00:00:00.000000000",
          "2024-07-25T00:00:00.000000000",
          "2024-07-26T00:00:00.000000000",
          "2024-07-27T00:00:00.000000000",
          "2024-07-28T00:00:00.000000000",
          "2024-07-29T00:00:00.000000000",
          "2024-07-30T00:00:00.000000000",
          "2024-07-31T00:00:00.000000000",
          "2024-08-01T00:00:00.000000000",
          "2024-08-02T00:00:00.000000000",
          "2024-08-03T00:00:00.000000000",
          "2024-08-04T00:00:00.000000000",
          "2024-08-05T00:00:00.000000000",
          "2024-08-06T00:00:00.000000000",
          "2024-08-07T00:00:00.000000000",
          "2024-08-08T00:00:00.000000000",
          "2024-08-09T00:00:00.000000000",
          "2024-08-10T00:00:00.000000000",
          "2024-08-11T00:00:00.000000000",
          "2024-08-12T00:00:00.000000000",
          "2024-08-13T00:00:00.000000000",
          "2024-08-14T00:00:00.000000000",
          "2024-08-15T00:00:00.000000000",
          "2024-08-16T00:00:00.000000000",
          "2024-08-17T00:00:00.000000000",
          "2024-08-18T00:00:00.000000000",
          "2024-08-19T00:00:00.000000000",
          "2024-08-20T00:00:00.000000000",
          "2024-08-21T00:00:00.000000000",
          "2024-08-22T00:00:00.000000000",
          "2024-08-23T00:00:00.000000000",
          "2024-08-24T00:00:00.000000000",
          "2024-08-25T00:00:00.000000000",
          "2024-08-26T00:00:00.000000000",
          "2024-08-27T00:00:00.000000000",
          "2024-08-28T00:00:00.000000000",
          "2024-08-29T00:00:00.000000000",
          "2024-08-30T00:00:00.000000000",
          "2024-08-31T00:00:00.000000000",
          "2024-09-01T00:00:00.000000000",
          "2024-09-02T00:00:00.000000000",
          "2024-09-03T00:00:00.000000000",
          "2024-09-04T00:00:00.000000000",
          "2024-09-05T00:00:00.000000000",
          "2024-09-06T00:00:00.000000000",
          "2024-09-07T00:00:00.000000000",
          "2024-09-08T00:00:00.000000000",
          "2024-09-09T00:00:00.000000000",
          "2024-09-10T00:00:00.000000000",
          "2024-09-11T00:00:00.000000000",
          "2024-09-12T00:00:00.000000000",
          "2024-09-13T00:00:00.000000000",
          "2024-09-14T00:00:00.000000000",
          "2024-09-15T00:00:00.000000000",
          "2024-09-16T00:00:00.000000000",
          "2024-09-17T00:00:00.000000000",
          "2024-09-18T00:00:00.000000000",
          "2024-09-19T00:00:00.000000000",
          "2024-09-20T00:00:00.000000000",
          "2024-09-21T00:00:00.000000000",
          "2024-09-22T00:00:00.000000000",
          "2024-09-23T00:00:00.000000000",
          "2024-09-24T00:00:00.000000000",
          "2024-09-25T00:00:00.000000000",
          "2024-09-26T00:00:00.000000000",
          "2024-09-27T00:00:00.000000000",
          "2024-09-28T00:00:00.000000000",
          "2024-09-29T00:00:00.000000000",
          "2024-09-30T00:00:00.000000000",
          "2024-10-01T00:00:00.000000000",
          "2024-10-02T00:00:00.000000000",
          "2024-10-03T00:00:00.000000000",
          "2024-10-04T00:00:00.000000000",
          "2024-10-05T00:00:00.000000000",
          "2024-10-06T00:00:00.000000000",
          "2024-10-07T00:00:00.000000000",
          "2024-10-08T00:00:00.000000000",
          "2024-10-09T00:00:00.000000000",
          "2024-10-10T00:00:00.000000000",
          "2024-10-11T00:00:00.000000000",
          "2024-10-12T00:00:00.000000000",
          "2024-10-13T00:00:00.000000000",
          "2024-10-14T00:00:00.000000000",
          "2024-10-15T00:00:00.000000000",
          "2024-10-16T00:00:00.000000000",
          "2024-10-17T00:00:00.000000000",
          "2024-10-18T00:00:00.000000000",
          "2024-10-19T00:00:00.000000000",
          "2024-10-20T00:00:00.000000000",
          "2024-10-21T00:00:00.000000000",
          "2024-10-22T00:00:00.000000000",
          "2024-10-23T00:00:00.000000000",
          "2024-10-24T00:00:00.000000000",
          "2024-10-25T00:00:00.000000000",
          "2024-10-26T00:00:00.000000000",
          "2024-10-27T00:00:00.000000000",
          "2024-10-28T00:00:00.000000000",
          "2024-10-29T00:00:00.000000000",
          "2024-10-30T00:00:00.000000000",
          "2024-10-31T00:00:00.000000000",
          "2024-11-01T00:00:00.000000000",
          "2024-11-02T00:00:00.000000000",
          "2024-11-03T00:00:00.000000000",
          "2024-11-04T00:00:00.000000000",
          "2024-11-05T00:00:00.000000000",
          "2024-11-06T00:00:00.000000000",
          "2024-11-07T00:00:00.000000000",
          "2024-11-08T00:00:00.000000000",
          "2024-11-09T00:00:00.000000000",
          "2024-11-10T00:00:00.000000000",
          "2024-11-11T00:00:00.000000000",
          "2024-11-12T00:00:00.000000000",
          "2024-11-13T00:00:00.000000000",
          "2024-11-14T00:00:00.000000000",
          "2024-11-15T00:00:00.000000000",
          "2024-11-16T00:00:00.000000000",
          "2024-11-17T00:00:00.000000000",
          "2024-11-18T00:00:00.000000000",
          "2024-11-19T00:00:00.000000000",
          "2024-11-20T00:00:00.000000000",
          "2024-11-21T00:00:00.000000000",
          "2024-11-22T00:00:00.000000000",
          "2024-11-23T00:00:00.000000000",
          "2024-11-24T00:00:00.000000000",
          "2024-11-25T00:00:00.000000000",
          "2024-11-26T00:00:00.000000000",
          "2024-11-27T00:00:00.000000000",
          "2024-11-28T00:00:00.000000000",
          "2024-11-29T00:00:00.000000000",
          "2024-11-30T00:00:00.000000000",
          "2024-12-01T00:00:00.000000000",
          "2024-12-02T00:00:00.000000000",
          "2024-12-03T00:00:00.000000000",
          "2024-12-04T00:00:00.000000000",
          "2024-12-05T00:00:00.000000000",
          "2024-12-06T00:00:00.000000000",
          "2024-12-07T00:00:00.000000000",
          "2024-12-08T00:00:00.000000000",
          "2024-12-09T00:00:00.000000000",
          "2024-12-10T00:00:00.000000000",
          "2024-12-11T00:00:00.000000000",
          "2024-12-12T00:00:00.000000000",
          "2024-12-13T00:00:00.000000000",
          "2024-12-14T00:00:00.000000000",
          "2024-12-15T00:00:00.000000000",
          "2024-12-16T00:00:00.000000000",
          "2024-12-17T00:00:00.000000000",
          "2024-12-18T00:00:00.000000000",
          "2024-12-19T00:00:00.000000000",
          "2024-12-20T00:00:00.000000000",
          "2024-12-21T00:00:00.000000000",
          "2024-12-22T00:00:00.000000000",
          "2024-12-23T00:00:00.000000000",
          "2024-12-24T00:00:00.000000000",
          "2024-12-25T00:00:00.000000000",
          "2024-12-26T00:00:00.000000000",
          "2024-12-27T00:00:00.000000000",
          "2024-12-28T00:00:00.000000000",
          "2024-12-29T00:00:00.000000000",
          "2024-12-30T00:00:00.000000000",
          "2024-12-31T00:00:00.000000000",
          "2025-01-01T00:00:00.000000000"
         ],
         "y": {
          "bdata": "9ihcD6oeNkFI4XqUuAcrQcP1KNx1NCxBhetRuDEqLEEUrkdh/tUrQR+F69EQnipBuB6Fa2I5KEHhehQuIuQrQYXrUTjiXi1BzczMTIUILkHD9Sjcqy0uQfYoXA+zLC5BKVyPwqXELEEK16Pw9oopQRSuR+Gx0y1BFK5HYdELLkHrUbierLktQcP1KFxahC1BXI/C9TOwLEHXo3A9rnIrQQrXo/ByGSlBUrgeBQwaLUEK16PwwRUuQXsUrkfuES5BCtejcO8/LkGuR+F6MVsuQaRwPYq2lCxBwvUo3AZ7KUFI4XqUa0kuQWZmZuYzEi9BFK5H4QHVLkE+Ctcjiw4uQc3MzEwS2y1BZmZm5nJCLEEfhevRwk8pQUjhehQWJS1Bj8L1qK/TLEFxPQrXw5ssQdejcD1WXyxBSOF6lL8fLEEzMzOzMZ0qQY/C9SipiydB61G4HrxiK0HXo3C9d24sQcP1KFwOJy1Bj8L1KBI+LUFcj8L1sj4tQQrXo/BZ2CtBexSuR2uxKEF7FK7HwbwsQSlcj0KvKS1BZmZmZvNoLUEpXI/C8QgtQcL1KFyUcSxBMzMzs9VfKkGPwvWoN3MnQa5H4foRiitB16NwPWgHLEHXo3A9PDYsQXE9CtcIkytB4XoUrtzpK0HD9ShcxJ8qQQrXo3BK+SdBMzMzMx5aK0HNzMxMsVQsQR+F61EA6yxBzczMTIq3LEGamZmZ1OQsQR+F69H5oStBMzMzM2CEKEGF61G4W34rQYXrUbir+StBpHA9itM7LEGF61E4svQrQeF6FK5oOCxBKVyPwsX9KkGkcD0KwPInQXE9ClcDaytBCtejcJ2/K0EAAAAACX8sQZqZmZktwCxBZmZm5hq4LEFI4XoUsDcrQdejcD05IyhBCtejcKHCK0Fcj8L1ASEsQUjhehSIzStBCtejcEA7K0HsUbielMUqQY/C9ShgWSlBKVyPwqbNJUGamZkZKC8pQR+F69EO9ylBmpmZmQUiKkEpXI/CQmUqQQrXo3CTGCpBAAAAgJANKUEzMzMzuP0mQaRwPYoTBidBPQrXI4CcJEFcj8J1/HMhQZqZmRlkayFB9ihcD6QgIkFxPQrXfaMjQaRwPYq8UyRBZmZm5r+AKEEpXI9CNLopQc3MzEw+TypBpHA9imKYKkHC9SjcnM8qQVK4HoVetylBSOF6lOeJJ0GF61E4b2YqQcP1KFwtzilBZmZmZiGDK0E9Ctej2O0rQR+F69EvnCtBFK5HYWHOKkEzMzOz3PUnQWZmZmZIFStB4XoULgSJK0Fcj8L1EmEpQeF6FC5pLitBzczMzLEfK0G4HoXr9jEqQaRwPQqcLydBexSux383KkH2KFwPSAgrQVyPwnV+SStBCtej8EGuK0E+Ctcjzk8rQcP1KNyqjCpBCtejcBmKJ0GF61E4YzIrQXsUrsdavitBpHA9iqRsK0HsUbie9fsrQa5H4Xro3ytB16NwPZyDKkHXo3C9t3UnQaRwPQorIStBH4Xr0dUMLEEAAAAAoWAsQSlcj0JhGSxB61G4HsuhK0EzMzOzWRcqQVyPwvUPLSdB4XoULk9yKkEzMzMzGhErQa5H4frcNytBSOF6FItEK0GamZkZIUMrQdejcL3SSSpBexSuR00TKEEzMzOz9JIsQZqZmZkJiC5BCtej8O4vL0HD9Shc1Y4vQQrXo3DKhy9BcT0KV1GiLUGuR+H6znsqQR+F61FBSy5BFa5H4WfNL0Fcj8K1c1cwQY/C9WgDwDBBPQrX44EIMEFI4XqUrjopQTMzMzPfVyVBKVyPwprSJUHNzMzMrdkmQXE9Cle0+ydBSOF6lETuK0GamZmZm0ktQfYoXI+N3SxBexSuR8XrKkG4HoVry6AvQc3MzIyrejBBmpmZmVdvMEHhehSuqDEwQcP1KFxRQjBBMzMzs+PsLkFI4XqUhhssQT0K16Mvyi9BhetRuLSEMEFcj8I1iaYwQYXrUbh7fDBBw/Uo3PghMEEfhetR6/8uQa5H4fryvixBcT0K1/++MEEVrkchlXsxQUjhepQCozFBj8L1qPNyMUEzMzOzcVQxQTMzM3MtcDBBH4XrURuyLUF7FK5H0+QuQR+F61F1PTFBAAAAQGK+MUGPwvXoMRkyQUjhelTrIjJBH4XrEcBNMUHrUbgeQ8IvQc3MzMyX5DFBSOF6FINdMkG4HoXrIxIyQcL1KJxvqzFBH4XrkVjsMEEfhesRGQ0wQc3MzEzelC1B7FG4Hv3dMEGuR+F6mlAxQVK4HkVMIjFB4XoUrr8oMUFmZmamlx4xQRSuRyHlVjBBj8L1KLjdLUFxPQpXQgoxQQAAAICjYDFBUrgeRXFFMUFSuB6FLlQxQeF6FG42RDFB7FG4HuRyMEE9CtcjR/EtQVyPwjU0JTFBuB6Fa6quMUGamZkZkNAxQQrXo7Ct1DFBKVyPghZ9MUGF61F4VTQwQbgeheuJgS1BhetROG/9MEGkcD1KhX8xQSlcj0IxizFBhetR+PiSMUHsUbheJ2MxQRSuRyGcRjBBFK5HYTXpLEGamZlZQIAwQVyPwnXUtzBBXI/CddGkMEE9CtdjYJUwQdejcD2b6S1BuB6F67f0LEHD9ShcHGcqQa5H4XokMS5BMzMzMz1VL0HXo3C9vLovQR+F69G0sC9B7FG4nrFlL0HsUbieLAYuQY/C9Sii4ypBCtejcFxaLkEpXI/CFR4vQTMzM7P+7i5Brkfh+v77LkEK16Nwlv0uQc3MzMx0eC1BuB6Fa8wZKkEK16Nw1sUsQeF6FC7nLi1BcT0K1zUNLUEK16PwDp8sQa5H4foXAyxBH4XrUV85KkHNzMzMHOQmQaRwPQqegipBMzMzM6RrK0EK16PwbKIrQaRwPQqq7StBuB6F6zTwK0FnZmbmydIqQXE9Ctcc+ydBMzMzM6XWKkH2KFwPHxgrQUjhehRxAStBw/UoXCEFK0Fcj8L1FQgrQSlcj0LG8ClBPQrXo/MzJ0FxPQrXJI0qQfYoXA8jVytBZmZmZsBkK0GuR+H62WIrQc3MzMz/VytBwvUo3P0jKkEpXI9CJyEnQR+F69GyWSpBuB6Fa1MLK0FI4XqUQyMrQXE9CleLICtBhetROBLsKkGamZkZFccpQUjhehQlRydBhetRuAvrKkFmZmbmRfErQZqZmRke4StBPQrXIwvZK0HrUbgeiMUrQexRuB7XSypBSOF6FNAmJ0FI4XqU1a0oQR+F61EFOyhB16NwvTATK0HhehSur7grQQAAAADXbStBcT0KV7pLKkFI4XqU98gnQXsUrsftaCtBMzMzsz5YLEGkcD0KWnYsQXsUrsfceyxBKVyPQlxELEF7FK5HvxkrQexRuB4sbihB9ihcD+7HK0HNzMxMUF0sQYXrUTg6XSxBrkfh+q9gLEHXo3C9QlosQRSuR2FASitBcT0KV1GsKEH2KFyP/3csQUjhehRI7ixBAAAAgL0JLUGuR+H6pxEtQc3MzMzTzixBH4XrUaqAK0EK16Pw2hspQYXrUThBXS1BwvUo3F2iLkFcj8L1i5EuQfYoXA/Wny5BMzMzsyziLUHXo3C9gMcrQYXrUbgdXilB4XoUrnBbLUFxPQrXaGguQVyPwvVqjC5BH4XrUclPLkGF61G4G9gtQQrXo/BZOyxBAAAAAKdRKUGPwvWoAJUsQdejcD2lOS1BpHA9igboLUHXo3C9SE8uQVK4HgWkfy5BuB6FawPgLEEzMzOzQnkqQT0K16M4yy5B9ihcj9z+LkEUrkfhBvUuQWZmZmZYDi9BUrgeBd7fLkEVrkdhjxctQXE9ClfPICpB7FG4HtkSLkFI4XqUT7ouQQrXo3DSMy5BhetROLGCLkGF61E4ja8uQT0K1yPUBi1BhetROAJwKkGPwvWob4ctQXsUrkd89StBmpmZGUhlKEE=",
          "dtype": "f8"
         }
        },
        {
         "mode": "lines",
         "name": "Ridge",
         "opacity": 0.7,
         "type": "scatter",
         "x": [
          "2024-01-01T00:00:00.000000000",
          "2024-01-02T00:00:00.000000000",
          "2024-01-03T00:00:00.000000000",
          "2024-01-04T00:00:00.000000000",
          "2024-01-05T00:00:00.000000000",
          "2024-01-06T00:00:00.000000000",
          "2024-01-07T00:00:00.000000000",
          "2024-01-08T00:00:00.000000000",
          "2024-01-09T00:00:00.000000000",
          "2024-01-10T00:00:00.000000000",
          "2024-01-11T00:00:00.000000000",
          "2024-01-12T00:00:00.000000000",
          "2024-01-13T00:00:00.000000000",
          "2024-01-14T00:00:00.000000000",
          "2024-01-15T00:00:00.000000000",
          "2024-01-16T00:00:00.000000000",
          "2024-01-17T00:00:00.000000000",
          "2024-01-18T00:00:00.000000000",
          "2024-01-19T00:00:00.000000000",
          "2024-01-20T00:00:00.000000000",
          "2024-01-21T00:00:00.000000000",
          "2024-01-22T00:00:00.000000000",
          "2024-01-23T00:00:00.000000000",
          "2024-01-24T00:00:00.000000000",
          "2024-01-25T00:00:00.000000000",
          "2024-01-26T00:00:00.000000000",
          "2024-01-27T00:00:00.000000000",
          "2024-01-28T00:00:00.000000000",
          "2024-01-29T00:00:00.000000000",
          "2024-01-30T00:00:00.000000000",
          "2024-01-31T00:00:00.000000000",
          "2024-02-01T00:00:00.000000000",
          "2024-02-02T00:00:00.000000000",
          "2024-02-03T00:00:00.000000000",
          "2024-02-04T00:00:00.000000000",
          "2024-02-05T00:00:00.000000000",
          "2024-02-06T00:00:00.000000000",
          "2024-02-07T00:00:00.000000000",
          "2024-02-08T00:00:00.000000000",
          "2024-02-09T00:00:00.000000000",
          "2024-02-10T00:00:00.000000000",
          "2024-02-11T00:00:00.000000000",
          "2024-02-12T00:00:00.000000000",
          "2024-02-13T00:00:00.000000000",
          "2024-02-14T00:00:00.000000000",
          "2024-02-15T00:00:00.000000000",
          "2024-02-16T00:00:00.000000000",
          "2024-02-17T00:00:00.000000000",
          "2024-02-18T00:00:00.000000000",
          "2024-02-19T00:00:00.000000000",
          "2024-02-20T00:00:00.000000000",
          "2024-02-21T00:00:00.000000000",
          "2024-02-22T00:00:00.000000000",
          "2024-02-23T00:00:00.000000000",
          "2024-02-24T00:00:00.000000000",
          "2024-02-25T00:00:00.000000000",
          "2024-02-26T00:00:00.000000000",
          "2024-02-27T00:00:00.000000000",
          "2024-02-28T00:00:00.000000000",
          "2024-02-29T00:00:00.000000000",
          "2024-03-01T00:00:00.000000000",
          "2024-03-02T00:00:00.000000000",
          "2024-03-03T00:00:00.000000000",
          "2024-03-04T00:00:00.000000000",
          "2024-03-05T00:00:00.000000000",
          "2024-03-06T00:00:00.000000000",
          "2024-03-07T00:00:00.000000000",
          "2024-03-08T00:00:00.000000000",
          "2024-03-09T00:00:00.000000000",
          "2024-03-10T00:00:00.000000000",
          "2024-03-11T00:00:00.000000000",
          "2024-03-12T00:00:00.000000000",
          "2024-03-13T00:00:00.000000000",
          "2024-03-14T00:00:00.000000000",
          "2024-03-15T00:00:00.000000000",
          "2024-03-16T00:00:00.000000000",
          "2024-03-17T00:00:00.000000000",
          "2024-03-18T00:00:00.000000000",
          "2024-03-19T00:00:00.000000000",
          "2024-03-20T00:00:00.000000000",
          "2024-03-21T00:00:00.000000000",
          "2024-03-22T00:00:00.000000000",
          "2024-03-23T00:00:00.000000000",
          "2024-03-24T00:00:00.000000000",
          "2024-03-25T00:00:00.000000000",
          "2024-03-26T00:00:00.000000000",
          "2024-03-27T00:00:00.000000000",
          "2024-03-28T00:00:00.000000000",
          "2024-03-29T00:00:00.000000000",
          "2024-03-30T00:00:00.000000000",
          "2024-03-31T00:00:00.000000000",
          "2024-04-01T00:00:00.000000000",
          "2024-04-02T00:00:00.000000000",
          "2024-04-03T00:00:00.000000000",
          "2024-04-04T00:00:00.000000000",
          "2024-04-05T00:00:00.000000000",
          "2024-04-06T00:00:00.000000000",
          "2024-04-07T00:00:00.000000000",
          "2024-04-08T00:00:00.000000000",
          "2024-04-09T00:00:00.000000000",
          "2024-04-10T00:00:00.000000000",
          "2024-04-11T00:00:00.000000000",
          "2024-04-12T00:00:00.000000000",
          "2024-04-13T00:00:00.000000000",
          "2024-04-14T00:00:00.000000000",
          "2024-04-15T00:00:00.000000000",
          "2024-04-16T00:00:00.000000000",
          "2024-04-17T00:00:00.000000000",
          "2024-04-18T00:00:00.000000000",
          "2024-04-19T00:00:00.000000000",
          "2024-04-20T00:00:00.000000000",
          "2024-04-21T00:00:00.000000000",
          "2024-04-22T00:00:00.000000000",
          "2024-04-23T00:00:00.000000000",
          "2024-04-24T00:00:00.000000000",
          "2024-04-25T00:00:00.000000000",
          "2024-04-26T00:00:00.000000000",
          "2024-04-27T00:00:00.000000000",
          "2024-04-28T00:00:00.000000000",
          "2024-04-29T00:00:00.000000000",
          "2024-04-30T00:00:00.000000000",
          "2024-05-01T00:00:00.000000000",
          "2024-05-02T00:00:00.000000000",
          "2024-05-03T00:00:00.000000000",
          "2024-05-04T00:00:00.000000000",
          "2024-05-05T00:00:00.000000000",
          "2024-05-06T00:00:00.000000000",
          "2024-05-07T00:00:00.000000000",
          "2024-05-08T00:00:00.000000000",
          "2024-05-09T00:00:00.000000000",
          "2024-05-10T00:00:00.000000000",
          "2024-05-11T00:00:00.000000000",
          "2024-05-12T00:00:00.000000000",
          "2024-05-13T00:00:00.000000000",
          "2024-05-14T00:00:00.000000000",
          "2024-05-15T00:00:00.000000000",
          "2024-05-16T00:00:00.000000000",
          "2024-05-17T00:00:00.000000000",
          "2024-05-18T00:00:00.000000000",
          "2024-05-19T00:00:00.000000000",
          "2024-05-20T00:00:00.000000000",
          "2024-05-21T00:00:00.000000000",
          "2024-05-22T00:00:00.000000000",
          "2024-05-23T00:00:00.000000000",
          "2024-05-24T00:00:00.000000000",
          "2024-05-25T00:00:00.000000000",
          "2024-05-26T00:00:00.000000000",
          "2024-05-27T00:00:00.000000000",
          "2024-05-28T00:00:00.000000000",
          "2024-05-29T00:00:00.000000000",
          "2024-05-30T00:00:00.000000000",
          "2024-05-31T00:00:00.000000000",
          "2024-06-01T00:00:00.000000000",
          "2024-06-02T00:00:00.000000000",
          "2024-06-03T00:00:00.000000000",
          "2024-06-04T00:00:00.000000000",
          "2024-06-05T00:00:00.000000000",
          "2024-06-06T00:00:00.000000000",
          "2024-06-07T00:00:00.000000000",
          "2024-06-08T00:00:00.000000000",
          "2024-06-09T00:00:00.000000000",
          "2024-06-10T00:00:00.000000000",
          "2024-06-11T00:00:00.000000000",
          "2024-06-12T00:00:00.000000000",
          "2024-06-13T00:00:00.000000000",
          "2024-06-14T00:00:00.000000000",
          "2024-06-15T00:00:00.000000000",
          "2024-06-16T00:00:00.000000000",
          "2024-06-17T00:00:00.000000000",
          "2024-06-18T00:00:00.000000000",
          "2024-06-19T00:00:00.000000000",
          "2024-06-20T00:00:00.000000000",
          "2024-06-21T00:00:00.000000000",
          "2024-06-22T00:00:00.000000000",
          "2024-06-23T00:00:00.000000000",
          "2024-06-24T00:00:00.000000000",
          "2024-06-25T00:00:00.000000000",
          "2024-06-26T00:00:00.000000000",
          "2024-06-27T00:00:00.000000000",
          "2024-06-28T00:00:00.000000000",
          "2024-06-29T00:00:00.000000000",
          "2024-06-30T00:00:00.000000000",
          "2024-07-01T00:00:00.000000000",
          "2024-07-02T00:00:00.000000000",
          "2024-07-03T00:00:00.000000000",
          "2024-07-04T00:00:00.000000000",
          "2024-07-05T00:00:00.000000000",
          "2024-07-06T00:00:00.000000000",
          "2024-07-07T00:00:00.000000000",
          "2024-07-08T00:00:00.000000000",
          "2024-07-09T00:00:00.000000000",
          "2024-07-10T00:00:00.000000000",
          "2024-07-11T00:00:00.000000000",
          "2024-07-12T00:00:00.000000000",
          "2024-07-13T00:00:00.000000000",
          "2024-07-14T00:00:00.000000000",
          "2024-07-15T00:00:00.000000000",
          "2024-07-16T00:00:00.000000000",
          "2024-07-17T00:00:00.000000000",
          "2024-07-18T00:00:00.000000000",
          "2024-07-19T00:00:00.000000000",
          "2024-07-20T00:00:00.000000000",
          "2024-07-21T00:00:00.000000000",
          "2024-07-22T00:00:00.000000000",
          "2024-07-23T00:00:00.000000000",
          "2024-07-24T00:00:00.000000000",
          "2024-07-25T00:00:00.000000000",
          "2024-07-26T00:00:00.000000000",
          "2024-07-27T00:00:00.000000000",
          "2024-07-28T00:00:00.000000000",
          "2024-07-29T00:00:00.000000000",
          "2024-07-30T00:00:00.000000000",
          "2024-07-31T00:00:00.000000000",
          "2024-08-01T00:00:00.000000000",
          "2024-08-02T00:00:00.000000000",
          "2024-08-03T00:00:00.000000000",
          "2024-08-04T00:00:00.000000000",
          "2024-08-05T00:00:00.000000000",
          "2024-08-06T00:00:00.000000000",
          "2024-08-07T00:00:00.000000000",
          "2024-08-08T00:00:00.000000000",
          "2024-08-09T00:00:00.000000000",
          "2024-08-10T00:00:00.000000000",
          "2024-08-11T00:00:00.000000000",
          "2024-08-12T00:00:00.000000000",
          "2024-08-13T00:00:00.000000000",
          "2024-08-14T00:00:00.000000000",
          "2024-08-15T00:00:00.000000000",
          "2024-08-16T00:00:00.000000000",
          "2024-08-17T00:00:00.000000000",
          "2024-08-18T00:00:00.000000000",
          "2024-08-19T00:00:00.000000000",
          "2024-08-20T00:00:00.000000000",
          "2024-08-21T00:00:00.000000000",
          "2024-08-22T00:00:00.000000000",
          "2024-08-23T00:00:00.000000000",
          "2024-08-24T00:00:00.000000000",
          "2024-08-25T00:00:00.000000000",
          "2024-08-26T00:00:00.000000000",
          "2024-08-27T00:00:00.000000000",
          "2024-08-28T00:00:00.000000000",
          "2024-08-29T00:00:00.000000000",
          "2024-08-30T00:00:00.000000000",
          "2024-08-31T00:00:00.000000000",
          "2024-09-01T00:00:00.000000000",
          "2024-09-02T00:00:00.000000000",
          "2024-09-03T00:00:00.000000000",
          "2024-09-04T00:00:00.000000000",
          "2024-09-05T00:00:00.000000000",
          "2024-09-06T00:00:00.000000000",
          "2024-09-07T00:00:00.000000000",
          "2024-09-08T00:00:00.000000000",
          "2024-09-09T00:00:00.000000000",
          "2024-09-10T00:00:00.000000000",
          "2024-09-11T00:00:00.000000000",
          "2024-09-12T00:00:00.000000000",
          "2024-09-13T00:00:00.000000000",
          "2024-09-14T00:00:00.000000000",
          "2024-09-15T00:00:00.000000000",
          "2024-09-16T00:00:00.000000000",
          "2024-09-17T00:00:00.000000000",
          "2024-09-18T00:00:00.000000000",
          "2024-09-19T00:00:00.000000000",
          "2024-09-20T00:00:00.000000000",
          "2024-09-21T00:00:00.000000000",
          "2024-09-22T00:00:00.000000000",
          "2024-09-23T00:00:00.000000000",
          "2024-09-24T00:00:00.000000000",
          "2024-09-25T00:00:00.000000000",
          "2024-09-26T00:00:00.000000000",
          "2024-09-27T00:00:00.000000000",
          "2024-09-28T00:00:00.000000000",
          "2024-09-29T00:00:00.000000000",
          "2024-09-30T00:00:00.000000000",
          "2024-10-01T00:00:00.000000000",
          "2024-10-02T00:00:00.000000000",
          "2024-10-03T00:00:00.000000000",
          "2024-10-04T00:00:00.000000000",
          "2024-10-05T00:00:00.000000000",
          "2024-10-06T00:00:00.000000000",
          "2024-10-07T00:00:00.000000000",
          "2024-10-08T00:00:00.000000000",
          "2024-10-09T00:00:00.000000000",
          "2024-10-10T00:00:00.000000000",
          "2024-10-11T00:00:00.000000000",
          "2024-10-12T00:00:00.000000000",
          "2024-10-13T00:00:00.000000000",
          "2024-10-14T00:00:00.000000000",
          "2024-10-15T00:00:00.000000000",
          "2024-10-16T00:00:00.000000000",
          "2024-10-17T00:00:00.000000000",
          "2024-10-18T00:00:00.000000000",
          "2024-10-19T00:00:00.000000000",
          "2024-10-20T00:00:00.000000000",
          "2024-10-21T00:00:00.000000000",
          "2024-10-22T00:00:00.000000000",
          "2024-10-23T00:00:00.000000000",
          "2024-10-24T00:00:00.000000000",
          "2024-10-25T00:00:00.000000000",
          "2024-10-26T00:00:00.000000000",
          "2024-10-27T00:00:00.000000000",
          "2024-10-28T00:00:00.000000000",
          "2024-10-29T00:00:00.000000000",
          "2024-10-30T00:00:00.000000000",
          "2024-10-31T00:00:00.000000000",
          "2024-11-01T00:00:00.000000000",
          "2024-11-02T00:00:00.000000000",
          "2024-11-03T00:00:00.000000000",
          "2024-11-04T00:00:00.000000000",
          "2024-11-05T00:00:00.000000000",
          "2024-11-06T00:00:00.000000000",
          "2024-11-07T00:00:00.000000000",
          "2024-11-08T00:00:00.000000000",
          "2024-11-09T00:00:00.000000000",
          "2024-11-10T00:00:00.000000000",
          "2024-11-11T00:00:00.000000000",
          "2024-11-12T00:00:00.000000000",
          "2024-11-13T00:00:00.000000000",
          "2024-11-14T00:00:00.000000000",
          "2024-11-15T00:00:00.000000000",
          "2024-11-16T00:00:00.000000000",
          "2024-11-17T00:00:00.000000000",
          "2024-11-18T00:00:00.000000000",
          "2024-11-19T00:00:00.000000000",
          "2024-11-20T00:00:00.000000000",
          "2024-11-21T00:00:00.000000000",
          "2024-11-22T00:00:00.000000000",
          "2024-11-23T00:00:00.000000000",
          "2024-11-24T00:00:00.000000000",
          "2024-11-25T00:00:00.000000000",
          "2024-11-26T00:00:00.000000000",
          "2024-11-27T00:00:00.000000000",
          "2024-11-28T00:00:00.000000000",
          "2024-11-29T00:00:00.000000000",
          "2024-11-30T00:00:00.000000000",
          "2024-12-01T00:00:00.000000000",
          "2024-12-02T00:00:00.000000000",
          "2024-12-03T00:00:00.000000000",
          "2024-12-04T00:00:00.000000000",
          "2024-12-05T00:00:00.000000000",
          "2024-12-06T00:00:00.000000000",
          "2024-12-07T00:00:00.000000000",
          "2024-12-08T00:00:00.000000000",
          "2024-12-09T00:00:00.000000000",
          "2024-12-10T00:00:00.000000000",
          "2024-12-11T00:00:00.000000000",
          "2024-12-12T00:00:00.000000000",
          "2024-12-13T00:00:00.000000000",
          "2024-12-14T00:00:00.000000000",
          "2024-12-15T00:00:00.000000000",
          "2024-12-16T00:00:00.000000000",
          "2024-12-17T00:00:00.000000000",
          "2024-12-18T00:00:00.000000000",
          "2024-12-19T00:00:00.000000000",
          "2024-12-20T00:00:00.000000000",
          "2024-12-21T00:00:00.000000000",
          "2024-12-22T00:00:00.000000000",
          "2024-12-23T00:00:00.000000000",
          "2024-12-24T00:00:00.000000000",
          "2024-12-25T00:00:00.000000000",
          "2024-12-26T00:00:00.000000000",
          "2024-12-27T00:00:00.000000000",
          "2024-12-28T00:00:00.000000000",
          "2024-12-29T00:00:00.000000000",
          "2024-12-30T00:00:00.000000000",
          "2024-12-31T00:00:00.000000000",
          "2025-01-01T00:00:00.000000000"
         ],
         "y": {
          "bdata": "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",
          "dtype": "f8"
         }
        }
       ],
       "layout": {
        "hovermode": "x unified",
        "template": {
         "data": {
          "bar": [
           {
            "error_x": {
             "color": "#2a3f5f"
            },
            "error_y": {
             "color": "#2a3f5f"
            },
            "marker": {
             "line": {
              "color": "white",
              "width": 0.5
             },
             "pattern": {
              "fillmode": "overlay",
              "size": 10,
              "solidity": 0.2
             }
            },
            "type": "bar"
           }
          ],
          "barpolar": [
           {
            "marker": {
             "line": {
              "color": "white",
              "width": 0.5
             },
             "pattern": {
              "fillmode": "overlay",
              "size": 10,
              "solidity": 0.2
             }
            },
            "type": "barpolar"
           }
          ],
          "carpet": [
           {
            "aaxis": {
             "endlinecolor": "#2a3f5f",
             "gridcolor": "#C8D4E3",
             "linecolor": "#C8D4E3",
             "minorgridcolor": "#C8D4E3",
             "startlinecolor": "#2a3f5f"
            },
            "baxis": {
             "endlinecolor": "#2a3f5f",
             "gridcolor": "#C8D4E3",
             "linecolor": "#C8D4E3",
             "minorgridcolor": "#C8D4E3",
             "startlinecolor": "#2a3f5f"
            },
            "type": "carpet"
           }
          ],
          "choropleth": [
           {
            "colorbar": {
             "outlinewidth": 0,
             "ticks": ""
            },
            "type": "choropleth"
           }
          ],
          "contour": [
           {
            "colorbar": {
             "outlinewidth": 0,
             "ticks": ""
            },
            "colorscale": [
             [
              0,
              "#0d0887"
             ],
             [
              0.1111111111111111,
              "#46039f"
             ],
             [
              0.2222222222222222,
              "#7201a8"
             ],
             [
              0.3333333333333333,
              "#9c179e"
             ],
             [
              0.4444444444444444,
              "#bd3786"
             ],
             [
              0.5555555555555556,
              "#d8576b"
             ],
             [
              0.6666666666666666,
              "#ed7953"
             ],
             [
              0.7777777777777778,
              "#fb9f3a"
             ],
             [
              0.8888888888888888,
              "#fdca26"
             ],
             [
              1,
              "#f0f921"
             ]
            ],
            "type": "contour"
           }
          ],
          "contourcarpet": [
           {
            "colorbar": {
             "outlinewidth": 0,
             "ticks": ""
            },
            "type": "contourcarpet"
           }
          ],
          "heatmap": [
           {
            "colorbar": {
             "outlinewidth": 0,
             "ticks": ""
            },
            "colorscale": [
             [
              0,
              "#0d0887"
             ],
             [
              0.1111111111111111,
              "#46039f"
             ],
             [
              0.2222222222222222,
              "#7201a8"
             ],
             [
              0.3333333333333333,
              "#9c179e"
             ],
             [
              0.4444444444444444,
              "#bd3786"
             ],
             [
              0.5555555555555556,
              "#d8576b"
             ],
             [
              0.6666666666666666,
              "#ed7953"
             ],
             [
              0.7777777777777778,
              "#fb9f3a"
             ],
             [
              0.8888888888888888,
              "#fdca26"
             ],
             [
              1,
              "#f0f921"
             ]
            ],
            "type": "heatmap"
           }
          ],
          "histogram": [
           {
            "marker": {
             "pattern": {
              "fillmode": "overlay",
              "size": 10,
              "solidity": 0.2
             }
            },
            "type": "histogram"
           }
          ],
          "histogram2d": [
           {
            "colorbar": {
             "outlinewidth": 0,
             "ticks": ""
            },
            "colorscale": [
             [
              0,
              "#0d0887"
             ],
             [
              0.1111111111111111,
              "#46039f"
             ],
             [
              0.2222222222222222,
              "#7201a8"
             ],
             [
              0.3333333333333333,
              "#9c179e"
             ],
             [
              0.4444444444444444,
              "#bd3786"
             ],
             [
              0.5555555555555556,
              "#d8576b"
             ],
             [
              0.6666666666666666,
              "#ed7953"
             ],
             [
              0.7777777777777778,
              "#fb9f3a"
             ],
             [
              0.8888888888888888,
              "#fdca26"
             ],
             [
              1,
              "#f0f921"
             ]
            ],
            "type": "histogram2d"
           }
          ],
          "histogram2dcontour": [
           {
            "colorbar": {
             "outlinewidth": 0,
             "ticks": ""
            },
            "colorscale": [
             [
              0,
              "#0d0887"
             ],
             [
              0.1111111111111111,
              "#46039f"
             ],
             [
              0.2222222222222222,
              "#7201a8"
             ],
             [
              0.3333333333333333,
              "#9c179e"
             ],
             [
              0.4444444444444444,
              "#bd3786"
             ],
             [
              0.5555555555555556,
              "#d8576b"
             ],
             [
              0.6666666666666666,
              "#ed7953"
             ],
             [
              0.7777777777777778,
              "#fb9f3a"
             ],
             [
              0.8888888888888888,
              "#fdca26"
             ],
             [
              1,
              "#f0f921"
             ]
            ],
            "type": "histogram2dcontour"
           }
          ],
          "mesh3d": [
           {
            "colorbar": {
             "outlinewidth": 0,
             "ticks": ""
            },
            "type": "mesh3d"
           }
          ],
          "parcoords": [
           {
            "line": {
             "colorbar": {
              "outlinewidth": 0,
              "ticks": ""
             }
            },
            "type": "parcoords"
           }
          ],
          "pie": [
           {
            "automargin": true,
            "type": "pie"
           }
          ],
          "scatter": [
           {
            "fillpattern": {
             "fillmode": "overlay",
             "size": 10,
             "solidity": 0.2
            },
            "type": "scatter"
           }
          ],
          "scatter3d": [
           {
            "line": {
             "colorbar": {
              "outlinewidth": 0,
              "ticks": ""
             }
            },
            "marker": {
             "colorbar": {
              "outlinewidth": 0,
              "ticks": ""
             }
            },
            "type": "scatter3d"
           }
          ],
          "scattercarpet": [
           {
            "marker": {
             "colorbar": {
              "outlinewidth": 0,
              "ticks": ""
             }
            },
            "type": "scattercarpet"
           }
          ],
          "scattergeo": [
           {
            "marker": {
             "colorbar": {
              "outlinewidth": 0,
              "ticks": ""
             }
            },
            "type": "scattergeo"
           }
          ],
          "scattergl": [
           {
            "marker": {
             "colorbar": {
              "outlinewidth": 0,
              "ticks": ""
             }
            },
            "type": "scattergl"
           }
          ],
          "scattermap": [
           {
            "marker": {
             "colorbar": {
              "outlinewidth": 0,
              "ticks": ""
             }
            },
            "type": "scattermap"
           }
          ],
          "scattermapbox": [
           {
            "marker": {
             "colorbar": {
              "outlinewidth": 0,
              "ticks": ""
             }
            },
            "type": "scattermapbox"
           }
          ],
          "scatterpolar": [
           {
            "marker": {
             "colorbar": {
              "outlinewidth": 0,
              "ticks": ""
             }
            },
            "type": "scatterpolar"
           }
          ],
          "scatterpolargl": [
           {
            "marker": {
             "colorbar": {
              "outlinewidth": 0,
              "ticks": ""
             }
            },
            "type": "scatterpolargl"
           }
          ],
          "scatterternary": [
           {
            "marker": {
             "colorbar": {
              "outlinewidth": 0,
              "ticks": ""
             }
            },
            "type": "scatterternary"
           }
          ],
          "surface": [
           {
            "colorbar": {
             "outlinewidth": 0,
             "ticks": ""
            },
            "colorscale": [
             [
              0,
              "#0d0887"
             ],
             [
              0.1111111111111111,
              "#46039f"
             ],
             [
              0.2222222222222222,
              "#7201a8"
             ],
             [
              0.3333333333333333,
              "#9c179e"
             ],
             [
              0.4444444444444444,
              "#bd3786"
             ],
             [
              0.5555555555555556,
              "#d8576b"
             ],
             [
              0.6666666666666666,
              "#ed7953"
             ],
             [
              0.7777777777777778,
              "#fb9f3a"
             ],
             [
              0.8888888888888888,
              "#fdca26"
             ],
             [
              1,
              "#f0f921"
             ]
            ],
            "type": "surface"
           }
          ],
          "table": [
           {
            "cells": {
             "fill": {
              "color": "#EBF0F8"
             },
             "line": {
              "color": "white"
             }
            },
            "header": {
             "fill": {
              "color": "#C8D4E3"
             },
             "line": {
              "color": "white"
             }
            },
            "type": "table"
           }
          ]
         },
         "layout": {
          "annotationdefaults": {
           "arrowcolor": "#2a3f5f",
           "arrowhead": 0,
           "arrowwidth": 1
          },
          "autotypenumbers": "strict",
          "coloraxis": {
           "colorbar": {
            "outlinewidth": 0,
            "ticks": ""
           }
          },
          "colorscale": {
           "diverging": [
            [
             0,
             "#8e0152"
            ],
            [
             0.1,
             "#c51b7d"
            ],
            [
             0.2,
             "#de77ae"
            ],
            [
             0.3,
             "#f1b6da"
            ],
            [
             0.4,
             "#fde0ef"
            ],
            [
             0.5,
             "#f7f7f7"
            ],
            [
             0.6,
             "#e6f5d0"
            ],
            [
             0.7,
             "#b8e186"
            ],
            [
             0.8,
             "#7fbc41"
            ],
            [
             0.9,
             "#4d9221"
            ],
            [
             1,
             "#276419"
            ]
           ],
           "sequential": [
            [
             0,
             "#0d0887"
            ],
            [
             0.1111111111111111,
             "#46039f"
            ],
            [
             0.2222222222222222,
             "#7201a8"
            ],
            [
             0.3333333333333333,
             "#9c179e"
            ],
            [
             0.4444444444444444,
             "#bd3786"
            ],
            [
             0.5555555555555556,
             "#d8576b"
            ],
            [
             0.6666666666666666,
             "#ed7953"
            ],
            [
             0.7777777777777778,
             "#fb9f3a"
            ],
            [
             0.8888888888888888,
             "#fdca26"
            ],
            [
             1,
             "#f0f921"
            ]
           ],
           "sequentialminus": [
            [
             0,
             "#0d0887"
            ],
            [
             0.1111111111111111,
             "#46039f"
            ],
            [
             0.2222222222222222,
             "#7201a8"
            ],
            [
             0.3333333333333333,
             "#9c179e"
            ],
            [
             0.4444444444444444,
             "#bd3786"
            ],
            [
             0.5555555555555556,
             "#d8576b"
            ],
            [
             0.6666666666666666,
             "#ed7953"
            ],
            [
             0.7777777777777778,
             "#fb9f3a"
            ],
            [
             0.8888888888888888,
             "#fdca26"
            ],
            [
             1,
             "#f0f921"
            ]
           ]
          },
          "colorway": [
           "#636efa",
           "#EF553B",
           "#00cc96",
           "#ab63fa",
           "#FFA15A",
           "#19d3f3",
           "#FF6692",
           "#B6E880",
           "#FF97FF",
           "#FECB52"
          ],
          "font": {
           "color": "#2a3f5f"
          },
          "geo": {
           "bgcolor": "white",
           "lakecolor": "white",
           "landcolor": "white",
           "showlakes": true,
           "showland": true,
           "subunitcolor": "#C8D4E3"
          },
          "hoverlabel": {
           "align": "left"
          },
          "hovermode": "closest",
          "mapbox": {
           "style": "light"
          },
          "paper_bgcolor": "white",
          "plot_bgcolor": "white",
          "polar": {
           "angularaxis": {
            "gridcolor": "#EBF0F8",
            "linecolor": "#EBF0F8",
            "ticks": ""
           },
           "bgcolor": "white",
           "radialaxis": {
            "gridcolor": "#EBF0F8",
            "linecolor": "#EBF0F8",
            "ticks": ""
           }
          },
          "scene": {
           "xaxis": {
            "backgroundcolor": "white",
            "gridcolor": "#DFE8F3",
            "gridwidth": 2,
            "linecolor": "#EBF0F8",
            "showbackground": true,
            "ticks": "",
            "zerolinecolor": "#EBF0F8"
           },
           "yaxis": {
            "backgroundcolor": "white",
            "gridcolor": "#DFE8F3",
            "gridwidth": 2,
            "linecolor": "#EBF0F8",
            "showbackground": true,
            "ticks": "",
            "zerolinecolor": "#EBF0F8"
           },
           "zaxis": {
            "backgroundcolor": "white",
            "gridcolor": "#DFE8F3",
            "gridwidth": 2,
            "linecolor": "#EBF0F8",
            "showbackground": true,
            "ticks": "",
            "zerolinecolor": "#EBF0F8"
           }
          },
          "shapedefaults": {
           "line": {
            "color": "#2a3f5f"
           }
          },
          "ternary": {
           "aaxis": {
            "gridcolor": "#DFE8F3",
            "linecolor": "#A2B1C6",
            "ticks": ""
           },
           "baxis": {
            "gridcolor": "#DFE8F3",
            "linecolor": "#A2B1C6",
            "ticks": ""
           },
           "bgcolor": "white",
           "caxis": {
            "gridcolor": "#DFE8F3",
            "linecolor": "#A2B1C6",
            "ticks": ""
           }
          },
          "title": {
           "x": 0.05
          },
          "xaxis": {
           "automargin": true,
           "gridcolor": "#EBF0F8",
           "linecolor": "#EBF0F8",
           "ticks": "",
           "title": {
            "standoff": 15
           },
           "zerolinecolor": "#EBF0F8",
           "zerolinewidth": 2
          },
          "yaxis": {
           "automargin": true,
           "gridcolor": "#EBF0F8",
           "linecolor": "#EBF0F8",
           "ticks": "",
           "title": {
            "standoff": 15
           },
           "zerolinecolor": "#EBF0F8",
           "zerolinewidth": 2
          }
         }
        },
        "title": {
         "text": "Ridge – Test Forecast"
        },
        "xaxis": {
         "title": {
          "text": "Date"
         }
        },
        "yaxis": {
         "title": {
          "text": "MWh"
         }
        }
       }
      }
     },
     "metadata": {},
     "output_type": "display_data"
    },
    {
     "data": {
      "application/vnd.plotly.v1+json": {
       "config": {
        "plotlyServerURL": "https://plot.ly"
       },
       "data": [
        {
         "mode": "lines",
         "name": "Actual",
         "type": "scatter",
         "x": [
          "2024-01-01T00:00:00.000000000",
          "2024-01-02T00:00:00.000000000",
          "2024-01-03T00:00:00.000000000",
          "2024-01-04T00:00:00.000000000",
          "2024-01-05T00:00:00.000000000",
          "2024-01-06T00:00:00.000000000",
          "2024-01-07T00:00:00.000000000",
          "2024-01-08T00:00:00.000000000",
          "2024-01-09T00:00:00.000000000",
          "2024-01-10T00:00:00.000000000",
          "2024-01-11T00:00:00.000000000",
          "2024-01-12T00:00:00.000000000",
          "2024-01-13T00:00:00.000000000",
          "2024-01-14T00:00:00.000000000",
          "2024-01-15T00:00:00.000000000",
          "2024-01-16T00:00:00.000000000",
          "2024-01-17T00:00:00.000000000",
          "2024-01-18T00:00:00.000000000",
          "2024-01-19T00:00:00.000000000",
          "2024-01-20T00:00:00.000000000",
          "2024-01-21T00:00:00.000000000",
          "2024-01-22T00:00:00.000000000",
          "2024-01-23T00:00:00.000000000",
          "2024-01-24T00:00:00.000000000",
          "2024-01-25T00:00:00.000000000",
          "2024-01-26T00:00:00.000000000",
          "2024-01-27T00:00:00.000000000",
          "2024-01-28T00:00:00.000000000",
          "2024-01-29T00:00:00.000000000",
          "2024-01-30T00:00:00.000000000",
          "2024-01-31T00:00:00.000000000",
          "2024-02-01T00:00:00.000000000",
          "2024-02-02T00:00:00.000000000",
          "2024-02-03T00:00:00.000000000",
          "2024-02-04T00:00:00.000000000",
          "2024-02-05T00:00:00.000000000",
          "2024-02-06T00:00:00.000000000",
          "2024-02-07T00:00:00.000000000",
          "2024-02-08T00:00:00.000000000",
          "2024-02-09T00:00:00.000000000",
          "2024-02-10T00:00:00.000000000",
          "2024-02-11T00:00:00.000000000",
          "2024-02-12T00:00:00.000000000",
          "2024-02-13T00:00:00.000000000",
          "2024-02-14T00:00:00.000000000",
          "2024-02-15T00:00:00.000000000",
          "2024-02-16T00:00:00.000000000",
          "2024-02-17T00:00:00.000000000",
          "2024-02-18T00:00:00.000000000",
          "2024-02-19T00:00:00.000000000",
          "2024-02-20T00:00:00.000000000",
          "2024-02-21T00:00:00.000000000",
          "2024-02-22T00:00:00.000000000",
          "2024-02-23T00:00:00.000000000",
          "2024-02-24T00:00:00.000000000",
          "2024-02-25T00:00:00.000000000",
          "2024-02-26T00:00:00.000000000",
          "2024-02-27T00:00:00.000000000",
          "2024-02-28T00:00:00.000000000",
          "2024-02-29T00:00:00.000000000",
          "2024-03-01T00:00:00.000000000",
          "2024-03-02T00:00:00.000000000",
          "2024-03-03T00:00:00.000000000",
          "2024-03-04T00:00:00.000000000",
          "2024-03-05T00:00:00.000000000",
          "2024-03-06T00:00:00.000000000",
          "2024-03-07T00:00:00.000000000",
          "2024-03-08T00:00:00.000000000",
          "2024-03-09T00:00:00.000000000",
          "2024-03-10T00:00:00.000000000",
          "2024-03-11T00:00:00.000000000",
          "2024-03-12T00:00:00.000000000",
          "2024-03-13T00:00:00.000000000",
          "2024-03-14T00:00:00.000000000",
          "2024-03-15T00:00:00.000000000",
          "2024-03-16T00:00:00.000000000",
          "2024-03-17T00:00:00.000000000",
          "2024-03-18T00:00:00.000000000",
          "2024-03-19T00:00:00.000000000",
          "2024-03-20T00:00:00.000000000",
          "2024-03-21T00:00:00.000000000",
          "2024-03-22T00:00:00.000000000",
          "2024-03-23T00:00:00.000000000",
          "2024-03-24T00:00:00.000000000",
          "2024-03-25T00:00:00.000000000",
          "2024-03-26T00:00:00.000000000",
          "2024-03-27T00:00:00.000000000",
          "2024-03-28T00:00:00.000000000",
          "2024-03-29T00:00:00.000000000",
          "2024-03-30T00:00:00.000000000",
          "2024-03-31T00:00:00.000000000",
          "2024-04-01T00:00:00.000000000",
          "2024-04-02T00:00:00.000000000",
          "2024-04-03T00:00:00.000000000",
          "2024-04-04T00:00:00.000000000",
          "2024-04-05T00:00:00.000000000",
          "2024-04-06T00:00:00.000000000",
          "2024-04-07T00:00:00.000000000",
          "2024-04-08T00:00:00.000000000",
          "2024-04-09T00:00:00.000000000",
          "2024-04-10T00:00:00.000000000",
          "2024-04-11T00:00:00.000000000",
          "2024-04-12T00:00:00.000000000",
          "2024-04-13T00:00:00.000000000",
          "2024-04-14T00:00:00.000000000",
          "2024-04-15T00:00:00.000000000",
          "2024-04-16T00:00:00.000000000",
          "2024-04-17T00:00:00.000000000",
          "2024-04-18T00:00:00.000000000",
          "2024-04-19T00:00:00.000000000",
          "2024-04-20T00:00:00.000000000",
          "2024-04-21T00:00:00.000000000",
          "2024-04-22T00:00:00.000000000",
          "2024-04-23T00:00:00.000000000",
          "2024-04-24T00:00:00.000000000",
          "2024-04-25T00:00:00.000000000",
          "2024-04-26T00:00:00.000000000",
          "2024-04-27T00:00:00.000000000",
          "2024-04-28T00:00:00.000000000",
          "2024-04-29T00:00:00.000000000",
          "2024-04-30T00:00:00.000000000",
          "2024-05-01T00:00:00.000000000",
          "2024-05-02T00:00:00.000000000",
          "2024-05-03T00:00:00.000000000",
          "2024-05-04T00:00:00.000000000",
          "2024-05-05T00:00:00.000000000",
          "2024-05-06T00:00:00.000000000",
          "2024-05-07T00:00:00.000000000",
          "2024-05-08T00:00:00.000000000",
          "2024-05-09T00:00:00.000000000",
          "2024-05-10T00:00:00.000000000",
          "2024-05-11T00:00:00.000000000",
          "2024-05-12T00:00:00.000000000",
          "2024-05-13T00:00:00.000000000",
          "2024-05-14T00:00:00.000000000",
          "2024-05-15T00:00:00.000000000",
          "2024-05-16T00:00:00.000000000",
          "2024-05-17T00:00:00.000000000",
          "2024-05-18T00:00:00.000000000",
          "2024-05-19T00:00:00.000000000",
          "2024-05-20T00:00:00.000000000",
          "2024-05-21T00:00:00.000000000",
          "2024-05-22T00:00:00.000000000",
          "2024-05-23T00:00:00.000000000",
          "2024-05-24T00:00:00.000000000",
          "2024-05-25T00:00:00.000000000",
          "2024-05-26T00:00:00.000000000",
          "2024-05-27T00:00:00.000000000",
          "2024-05-28T00:00:00.000000000",
          "2024-05-29T00:00:00.000000000",
          "2024-05-30T00:00:00.000000000",
          "2024-05-31T00:00:00.000000000",
          "2024-06-01T00:00:00.000000000",
          "2024-06-02T00:00:00.000000000",
          "2024-06-03T00:00:00.000000000",
          "2024-06-04T00:00:00.000000000",
          "2024-06-05T00:00:00.000000000",
          "2024-06-06T00:00:00.000000000",
          "2024-06-07T00:00:00.000000000",
          "2024-06-08T00:00:00.000000000",
          "2024-06-09T00:00:00.000000000",
          "2024-06-10T00:00:00.000000000",
          "2024-06-11T00:00:00.000000000",
          "2024-06-12T00:00:00.000000000",
          "2024-06-13T00:00:00.000000000",
          "2024-06-14T00:00:00.000000000",
          "2024-06-15T00:00:00.000000000",
          "2024-06-16T00:00:00.000000000",
          "2024-06-17T00:00:00.000000000",
          "2024-06-18T00:00:00.000000000",
          "2024-06-19T00:00:00.000000000",
          "2024-06-20T00:00:00.000000000",
          "2024-06-21T00:00:00.000000000",
          "2024-06-22T00:00:00.000000000",
          "2024-06-23T00:00:00.000000000",
          "2024-06-24T00:00:00.000000000",
          "2024-06-25T00:00:00.000000000",
          "2024-06-26T00:00:00.000000000",
          "2024-06-27T00:00:00.000000000",
          "2024-06-28T00:00:00.000000000",
          "2024-06-29T00:00:00.000000000",
          "2024-06-30T00:00:00.000000000",
          "2024-07-01T00:00:00.000000000",
          "2024-07-02T00:00:00.000000000",
          "2024-07-03T00:00:00.000000000",
          "2024-07-04T00:00:00.000000000",
          "2024-07-05T00:00:00.000000000",
          "2024-07-06T00:00:00.000000000",
          "2024-07-07T00:00:00.000000000",
          "2024-07-08T00:00:00.000000000",
          "2024-07-09T00:00:00.000000000",
          "2024-07-10T00:00:00.000000000",
          "2024-07-11T00:00:00.000000000",
          "2024-07-12T00:00:00.000000000",
          "2024-07-13T00:00:00.000000000",
          "2024-07-14T00:00:00.000000000",
          "2024-07-15T00:00:00.000000000",
          "2024-07-16T00:00:00.000000000",
          "2024-07-17T00:00:00.000000000",
          "2024-07-18T00:00:00.000000000",
          "2024-07-19T00:00:00.000000000",
          "2024-07-20T00:00:00.000000000",
          "2024-07-21T00:00:00.000000000",
          "2024-07-22T00:00:00.000000000",
          "2024-07-23T00:00:00.000000000",
          "2024-07-24T00:00:00.000000000",
          "2024-07-25T00:00:00.000000000",
          "2024-07-26T00:00:00.000000000",
          "2024-07-27T00:00:00.000000000",
          "2024-07-28T00:00:00.000000000",
          "2024-07-29T00:00:00.000000000",
          "2024-07-30T00:00:00.000000000",
          "2024-07-31T00:00:00.000000000",
          "2024-08-01T00:00:00.000000000",
          "2024-08-02T00:00:00.000000000",
          "2024-08-03T00:00:00.000000000",
          "2024-08-04T00:00:00.000000000",
          "2024-08-05T00:00:00.000000000",
          "2024-08-06T00:00:00.000000000",
          "2024-08-07T00:00:00.000000000",
          "2024-08-08T00:00:00.000000000",
          "2024-08-09T00:00:00.000000000",
          "2024-08-10T00:00:00.000000000",
          "2024-08-11T00:00:00.000000000",
          "2024-08-12T00:00:00.000000000",
          "2024-08-13T00:00:00.000000000",
          "2024-08-14T00:00:00.000000000",
          "2024-08-15T00:00:00.000000000",
          "2024-08-16T00:00:00.000000000",
          "2024-08-17T00:00:00.000000000",
          "2024-08-18T00:00:00.000000000",
          "2024-08-19T00:00:00.000000000",
          "2024-08-20T00:00:00.000000000",
          "2024-08-21T00:00:00.000000000",
          "2024-08-22T00:00:00.000000000",
          "2024-08-23T00:00:00.000000000",
          "2024-08-24T00:00:00.000000000",
          "2024-08-25T00:00:00.000000000",
          "2024-08-26T00:00:00.000000000",
          "2024-08-27T00:00:00.000000000",
          "2024-08-28T00:00:00.000000000",
          "2024-08-29T00:00:00.000000000",
          "2024-08-30T00:00:00.000000000",
          "2024-08-31T00:00:00.000000000",
          "2024-09-01T00:00:00.000000000",
          "2024-09-02T00:00:00.000000000",
          "2024-09-03T00:00:00.000000000",
          "2024-09-04T00:00:00.000000000",
          "2024-09-05T00:00:00.000000000",
          "2024-09-06T00:00:00.000000000",
          "2024-09-07T00:00:00.000000000",
          "2024-09-08T00:00:00.000000000",
          "2024-09-09T00:00:00.000000000",
          "2024-09-10T00:00:00.000000000",
          "2024-09-11T00:00:00.000000000",
          "2024-09-12T00:00:00.000000000",
          "2024-09-13T00:00:00.000000000",
          "2024-09-14T00:00:00.000000000",
          "2024-09-15T00:00:00.000000000",
          "2024-09-16T00:00:00.000000000",
          "2024-09-17T00:00:00.000000000",
          "2024-09-18T00:00:00.000000000",
          "2024-09-19T00:00:00.000000000",
          "2024-09-20T00:00:00.000000000",
          "2024-09-21T00:00:00.000000000",
          "2024-09-22T00:00:00.000000000",
          "2024-09-23T00:00:00.000000000",
          "2024-09-24T00:00:00.000000000",
          "2024-09-25T00:00:00.000000000",
          "2024-09-26T00:00:00.000000000",
          "2024-09-27T00:00:00.000000000",
          "2024-09-28T00:00:00.000000000",
          "2024-09-29T00:00:00.000000000",
          "2024-09-30T00:00:00.000000000",
          "2024-10-01T00:00:00.000000000",
          "2024-10-02T00:00:00.000000000",
          "2024-10-03T00:00:00.000000000",
          "2024-10-04T00:00:00.000000000",
          "2024-10-05T00:00:00.000000000",
          "2024-10-06T00:00:00.000000000",
          "2024-10-07T00:00:00.000000000",
          "2024-10-08T00:00:00.000000000",
          "2024-10-09T00:00:00.000000000",
          "2024-10-10T00:00:00.000000000",
          "2024-10-11T00:00:00.000000000",
          "2024-10-12T00:00:00.000000000",
          "2024-10-13T00:00:00.000000000",
          "2024-10-14T00:00:00.000000000",
          "2024-10-15T00:00:00.000000000",
          "2024-10-16T00:00:00.000000000",
          "2024-10-17T00:00:00.000000000",
          "2024-10-18T00:00:00.000000000",
          "2024-10-19T00:00:00.000000000",
          "2024-10-20T00:00:00.000000000",
          "2024-10-21T00:00:00.000000000",
          "2024-10-22T00:00:00.000000000",
          "2024-10-23T00:00:00.000000000",
          "2024-10-24T00:00:00.000000000",
          "2024-10-25T00:00:00.000000000",
          "2024-10-26T00:00:00.000000000",
          "2024-10-27T00:00:00.000000000",
          "2024-10-28T00:00:00.000000000",
          "2024-10-29T00:00:00.000000000",
          "2024-10-30T00:00:00.000000000",
          "2024-10-31T00:00:00.000000000",
          "2024-11-01T00:00:00.000000000",
          "2024-11-02T00:00:00.000000000",
          "2024-11-03T00:00:00.000000000",
          "2024-11-04T00:00:00.000000000",
          "2024-11-05T00:00:00.000000000",
          "2024-11-06T00:00:00.000000000",
          "2024-11-07T00:00:00.000000000",
          "2024-11-08T00:00:00.000000000",
          "2024-11-09T00:00:00.000000000",
          "2024-11-10T00:00:00.000000000",
          "2024-11-11T00:00:00.000000000",
          "2024-11-12T00:00:00.000000000",
          "2024-11-13T00:00:00.000000000",
          "2024-11-14T00:00:00.000000000",
          "2024-11-15T00:00:00.000000000",
          "2024-11-16T00:00:00.000000000",
          "2024-11-17T00:00:00.000000000",
          "2024-11-18T00:00:00.000000000",
          "2024-11-19T00:00:00.000000000",
          "2024-11-20T00:00:00.000000000",
          "2024-11-21T00:00:00.000000000",
          "2024-11-22T00:00:00.000000000",
          "2024-11-23T00:00:00.000000000",
          "2024-11-24T00:00:00.000000000",
          "2024-11-25T00:00:00.000000000",
          "2024-11-26T00:00:00.000000000",
          "2024-11-27T00:00:00.000000000",
          "2024-11-28T00:00:00.000000000",
          "2024-11-29T00:00:00.000000000",
          "2024-11-30T00:00:00.000000000",
          "2024-12-01T00:00:00.000000000",
          "2024-12-02T00:00:00.000000000",
          "2024-12-03T00:00:00.000000000",
          "2024-12-04T00:00:00.000000000",
          "2024-12-05T00:00:00.000000000",
          "2024-12-06T00:00:00.000000000",
          "2024-12-07T00:00:00.000000000",
          "2024-12-08T00:00:00.000000000",
          "2024-12-09T00:00:00.000000000",
          "2024-12-10T00:00:00.000000000",
          "2024-12-11T00:00:00.000000000",
          "2024-12-12T00:00:00.000000000",
          "2024-12-13T00:00:00.000000000",
          "2024-12-14T00:00:00.000000000",
          "2024-12-15T00:00:00.000000000",
          "2024-12-16T00:00:00.000000000",
          "2024-12-17T00:00:00.000000000",
          "2024-12-18T00:00:00.000000000",
          "2024-12-19T00:00:00.000000000",
          "2024-12-20T00:00:00.000000000",
          "2024-12-21T00:00:00.000000000",
          "2024-12-22T00:00:00.000000000",
          "2024-12-23T00:00:00.000000000",
          "2024-12-24T00:00:00.000000000",
          "2024-12-25T00:00:00.000000000",
          "2024-12-26T00:00:00.000000000",
          "2024-12-27T00:00:00.000000000",
          "2024-12-28T00:00:00.000000000",
          "2024-12-29T00:00:00.000000000",
          "2024-12-30T00:00:00.000000000",
          "2024-12-31T00:00:00.000000000",
          "2025-01-01T00:00:00.000000000"
         ],
         "y": {
          "bdata": "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",
          "dtype": "f8"
         }
        },
        {
         "mode": "lines",
         "name": "RandomForest",
         "opacity": 0.7,
         "type": "scatter",
         "x": [
          "2024-01-01T00:00:00.000000000",
          "2024-01-02T00:00:00.000000000",
          "2024-01-03T00:00:00.000000000",
          "2024-01-04T00:00:00.000000000",
          "2024-01-05T00:00:00.000000000",
          "2024-01-06T00:00:00.000000000",
          "2024-01-07T00:00:00.000000000",
          "2024-01-08T00:00:00.000000000",
          "2024-01-09T00:00:00.000000000",
          "2024-01-10T00:00:00.000000000",
          "2024-01-11T00:00:00.000000000",
          "2024-01-12T00:00:00.000000000",
          "2024-01-13T00:00:00.000000000",
          "2024-01-14T00:00:00.000000000",
          "2024-01-15T00:00:00.000000000",
          "2024-01-16T00:00:00.000000000",
          "2024-01-17T00:00:00.000000000",
          "2024-01-18T00:00:00.000000000",
          "2024-01-19T00:00:00.000000000",
          "2024-01-20T00:00:00.000000000",
          "2024-01-21T00:00:00.000000000",
          "2024-01-22T00:00:00.000000000",
          "2024-01-23T00:00:00.000000000",
          "2024-01-24T00:00:00.000000000",
          "2024-01-25T00:00:00.000000000",
          "2024-01-26T00:00:00.000000000",
          "2024-01-27T00:00:00.000000000",
          "2024-01-28T00:00:00.000000000",
          "2024-01-29T00:00:00.000000000",
          "2024-01-30T00:00:00.000000000",
          "2024-01-31T00:00:00.000000000",
          "2024-02-01T00:00:00.000000000",
          "2024-02-02T00:00:00.000000000",
          "2024-02-03T00:00:00.000000000",
          "2024-02-04T00:00:00.000000000",
          "2024-02-05T00:00:00.000000000",
          "2024-02-06T00:00:00.000000000",
          "2024-02-07T00:00:00.000000000",
          "2024-02-08T00:00:00.000000000",
          "2024-02-09T00:00:00.000000000",
          "2024-02-10T00:00:00.000000000",
          "2024-02-11T00:00:00.000000000",
          "2024-02-12T00:00:00.000000000",
          "2024-02-13T00:00:00.000000000",
          "2024-02-14T00:00:00.000000000",
          "2024-02-15T00:00:00.000000000",
          "2024-02-16T00:00:00.000000000",
          "2024-02-17T00:00:00.000000000",
          "2024-02-18T00:00:00.000000000",
          "2024-02-19T00:00:00.000000000",
          "2024-02-20T00:00:00.000000000",
          "2024-02-21T00:00:00.000000000",
          "2024-02-22T00:00:00.000000000",
          "2024-02-23T00:00:00.000000000",
          "2024-02-24T00:00:00.000000000",
          "2024-02-25T00:00:00.000000000",
          "2024-02-26T00:00:00.000000000",
          "2024-02-27T00:00:00.000000000",
          "2024-02-28T00:00:00.000000000",
          "2024-02-29T00:00:00.000000000",
          "2024-03-01T00:00:00.000000000",
          "2024-03-02T00:00:00.000000000",
          "2024-03-03T00:00:00.000000000",
          "2024-03-04T00:00:00.000000000",
          "2024-03-05T00:00:00.000000000",
          "2024-03-06T00:00:00.000000000",
          "2024-03-07T00:00:00.000000000",
          "2024-03-08T00:00:00.000000000",
          "2024-03-09T00:00:00.000000000",
          "2024-03-10T00:00:00.000000000",
          "2024-03-11T00:00:00.000000000",
          "2024-03-12T00:00:00.000000000",
          "2024-03-13T00:00:00.000000000",
          "2024-03-14T00:00:00.000000000",
          "2024-03-15T00:00:00.000000000",
          "2024-03-16T00:00:00.000000000",
          "2024-03-17T00:00:00.000000000",
          "2024-03-18T00:00:00.000000000",
          "2024-03-19T00:00:00.000000000",
          "2024-03-20T00:00:00.000000000",
          "2024-03-21T00:00:00.000000000",
          "2024-03-22T00:00:00.000000000",
          "2024-03-23T00:00:00.000000000",
          "2024-03-24T00:00:00.000000000",
          "2024-03-25T00:00:00.000000000",
          "2024-03-26T00:00:00.000000000",
          "2024-03-27T00:00:00.000000000",
          "2024-03-28T00:00:00.000000000",
          "2024-03-29T00:00:00.000000000",
          "2024-03-30T00:00:00.000000000",
          "2024-03-31T00:00:00.000000000",
          "2024-04-01T00:00:00.000000000",
          "2024-04-02T00:00:00.000000000",
          "2024-04-03T00:00:00.000000000",
          "2024-04-04T00:00:00.000000000",
          "2024-04-05T00:00:00.000000000",
          "2024-04-06T00:00:00.000000000",
          "2024-04-07T00:00:00.000000000",
          "2024-04-08T00:00:00.000000000",
          "2024-04-09T00:00:00.000000000",
          "2024-04-10T00:00:00.000000000",
          "2024-04-11T00:00:00.000000000",
          "2024-04-12T00:00:00.000000000",
          "2024-04-13T00:00:00.000000000",
          "2024-04-14T00:00:00.000000000",
          "2024-04-15T00:00:00.000000000",
          "2024-04-16T00:00:00.000000000",
          "2024-04-17T00:00:00.000000000",
          "2024-04-18T00:00:00.000000000",
          "2024-04-19T00:00:00.000000000",
          "2024-04-20T00:00:00.000000000",
          "2024-04-21T00:00:00.000000000",
          "2024-04-22T00:00:00.000000000",
          "2024-04-23T00:00:00.000000000",
          "2024-04-24T00:00:00.000000000",
          "2024-04-25T00:00:00.000000000",
          "2024-04-26T00:00:00.000000000",
          "2024-04-27T00:00:00.000000000",
          "2024-04-28T00:00:00.000000000",
          "2024-04-29T00:00:00.000000000",
          "2024-04-30T00:00:00.000000000",
          "2024-05-01T00:00:00.000000000",
          "2024-05-02T00:00:00.000000000",
          "2024-05-03T00:00:00.000000000",
          "2024-05-04T00:00:00.000000000",
          "2024-05-05T00:00:00.000000000",
          "2024-05-06T00:00:00.000000000",
          "2024-05-07T00:00:00.000000000",
          "2024-05-08T00:00:00.000000000",
          "2024-05-09T00:00:00.000000000",
          "2024-05-10T00:00:00.000000000",
          "2024-05-11T00:00:00.000000000",
          "2024-05-12T00:00:00.000000000",
          "2024-05-13T00:00:00.000000000",
          "2024-05-14T00:00:00.000000000",
          "2024-05-15T00:00:00.000000000",
          "2024-05-16T00:00:00.000000000",
          "2024-05-17T00:00:00.000000000",
          "2024-05-18T00:00:00.000000000",
          "2024-05-19T00:00:00.000000000",
          "2024-05-20T00:00:00.000000000",
          "2024-05-21T00:00:00.000000000",
          "2024-05-22T00:00:00.000000000",
          "2024-05-23T00:00:00.000000000",
          "2024-05-24T00:00:00.000000000",
          "2024-05-25T00:00:00.000000000",
          "2024-05-26T00:00:00.000000000",
          "2024-05-27T00:00:00.000000000",
          "2024-05-28T00:00:00.000000000",
          "2024-05-29T00:00:00.000000000",
          "2024-05-30T00:00:00.000000000",
          "2024-05-31T00:00:00.000000000",
          "2024-06-01T00:00:00.000000000",
          "2024-06-02T00:00:00.000000000",
          "2024-06-03T00:00:00.000000000",
          "2024-06-04T00:00:00.000000000",
          "2024-06-05T00:00:00.000000000",
          "2024-06-06T00:00:00.000000000",
          "2024-06-07T00:00:00.000000000",
          "2024-06-08T00:00:00.000000000",
          "2024-06-09T00:00:00.000000000",
          "2024-06-10T00:00:00.000000000",
          "2024-06-11T00:00:00.000000000",
          "2024-06-12T00:00:00.000000000",
          "2024-06-13T00:00:00.000000000",
          "2024-06-14T00:00:00.000000000",
          "2024-06-15T00:00:00.000000000",
          "2024-06-16T00:00:00.000000000",
          "2024-06-17T00:00:00.000000000",
          "2024-06-18T00:00:00.000000000",
          "2024-06-19T00:00:00.000000000",
          "2024-06-20T00:00:00.000000000",
          "2024-06-21T00:00:00.000000000",
          "2024-06-22T00:00:00.000000000",
          "2024-06-23T00:00:00.000000000",
          "2024-06-24T00:00:00.000000000",
          "2024-06-25T00:00:00.000000000",
          "2024-06-26T00:00:00.000000000",
          "2024-06-27T00:00:00.000000000",
          "2024-06-28T00:00:00.000000000",
          "2024-06-29T00:00:00.000000000",
          "2024-06-30T00:00:00.000000000",
          "2024-07-01T00:00:00.000000000",
          "2024-07-02T00:00:00.000000000",
          "2024-07-03T00:00:00.000000000",
          "2024-07-04T00:00:00.000000000",
          "2024-07-05T00:00:00.000000000",
          "2024-07-06T00:00:00.000000000",
          "2024-07-07T00:00:00.000000000",
          "2024-07-08T00:00:00.000000000",
          "2024-07-09T00:00:00.000000000",
          "2024-07-10T00:00:00.000000000",
          "2024-07-11T00:00:00.000000000",
          "2024-07-12T00:00:00.000000000",
          "2024-07-13T00:00:00.000000000",
          "2024-07-14T00:00:00.000000000",
          "2024-07-15T00:00:00.000000000",
          "2024-07-16T00:00:00.000000000",
          "2024-07-17T00:00:00.000000000",
          "2024-07-18T00:00:00.000000000",
          "2024-07-19T00:00:00.000000000",
          "2024-07-20T00:00:00.000000000",
          "2024-07-21T00:00:00.000000000",
          "2024-07-22T00:00:00.000000000",
          "2024-07-23T00:00:00.000000000",
          "2024-07-24T00:00:00.000000000",
          "2024-07-25T00:00:00.000000000",
          "2024-07-26T00:00:00.000000000",
          "2024-07-27T00:00:00.000000000",
          "2024-07-28T00:00:00.000000000",
          "2024-07-29T00:00:00.000000000",
          "2024-07-30T00:00:00.000000000",
          "2024-07-31T00:00:00.000000000",
          "2024-08-01T00:00:00.000000000",
          "2024-08-02T00:00:00.000000000",
          "2024-08-03T00:00:00.000000000",
          "2024-08-04T00:00:00.000000000",
          "2024-08-05T00:00:00.000000000",
          "2024-08-06T00:00:00.000000000",
          "2024-08-07T00:00:00.000000000",
          "2024-08-08T00:00:00.000000000",
          "2024-08-09T00:00:00.000000000",
          "2024-08-10T00:00:00.000000000",
          "2024-08-11T00:00:00.000000000",
          "2024-08-12T00:00:00.000000000",
          "2024-08-13T00:00:00.000000000",
          "2024-08-14T00:00:00.000000000",
          "2024-08-15T00:00:00.000000000",
          "2024-08-16T00:00:00.000000000",
          "2024-08-17T00:00:00.000000000",
          "2024-08-18T00:00:00.000000000",
          "2024-08-19T00:00:00.000000000",
          "2024-08-20T00:00:00.000000000",
          "2024-08-21T00:00:00.000000000",
          "2024-08-22T00:00:00.000000000",
          "2024-08-23T00:00:00.000000000",
          "2024-08-24T00:00:00.000000000",
          "2024-08-25T00:00:00.000000000",
          "2024-08-26T00:00:00.000000000",
          "2024-08-27T00:00:00.000000000",
          "2024-08-28T00:00:00.000000000",
          "2024-08-29T00:00:00.000000000",
          "2024-08-30T00:00:00.000000000",
          "2024-08-31T00:00:00.000000000",
          "2024-09-01T00:00:00.000000000",
          "2024-09-02T00:00:00.000000000",
          "2024-09-03T00:00:00.000000000",
          "2024-09-04T00:00:00.000000000",
          "2024-09-05T00:00:00.000000000",
          "2024-09-06T00:00:00.000000000",
          "2024-09-07T00:00:00.000000000",
          "2024-09-08T00:00:00.000000000",
          "2024-09-09T00:00:00.000000000",
          "2024-09-10T00:00:00.000000000",
          "2024-09-11T00:00:00.000000000",
          "2024-09-12T00:00:00.000000000",
          "2024-09-13T00:00:00.000000000",
          "2024-09-14T00:00:00.000000000",
          "2024-09-15T00:00:00.000000000",
          "2024-09-16T00:00:00.000000000",
          "2024-09-17T00:00:00.000000000",
          "2024-09-18T00:00:00.000000000",
          "2024-09-19T00:00:00.000000000",
          "2024-09-20T00:00:00.000000000",
          "2024-09-21T00:00:00.000000000",
          "2024-09-22T00:00:00.000000000",
          "2024-09-23T00:00:00.000000000",
          "2024-09-24T00:00:00.000000000",
          "2024-09-25T00:00:00.000000000",
          "2024-09-26T00:00:00.000000000",
          "2024-09-27T00:00:00.000000000",
          "2024-09-28T00:00:00.000000000",
          "2024-09-29T00:00:00.000000000",
          "2024-09-30T00:00:00.000000000",
          "2024-10-01T00:00:00.000000000",
          "2024-10-02T00:00:00.000000000",
          "2024-10-03T00:00:00.000000000",
          "2024-10-04T00:00:00.000000000",
          "2024-10-05T00:00:00.000000000",
          "2024-10-06T00:00:00.000000000",
          "2024-10-07T00:00:00.000000000",
          "2024-10-08T00:00:00.000000000",
          "2024-10-09T00:00:00.000000000",
          "2024-10-10T00:00:00.000000000",
          "2024-10-11T00:00:00.000000000",
          "2024-10-12T00:00:00.000000000",
          "2024-10-13T00:00:00.000000000",
          "2024-10-14T00:00:00.000000000",
          "2024-10-15T00:00:00.000000000",
          "2024-10-16T00:00:00.000000000",
          "2024-10-17T00:00:00.000000000",
          "2024-10-18T00:00:00.000000000",
          "2024-10-19T00:00:00.000000000",
          "2024-10-20T00:00:00.000000000",
          "2024-10-21T00:00:00.000000000",
          "2024-10-22T00:00:00.000000000",
          "2024-10-23T00:00:00.000000000",
          "2024-10-24T00:00:00.000000000",
          "2024-10-25T00:00:00.000000000",
          "2024-10-26T00:00:00.000000000",
          "2024-10-27T00:00:00.000000000",
          "2024-10-28T00:00:00.000000000",
          "2024-10-29T00:00:00.000000000",
          "2024-10-30T00:00:00.000000000",
          "2024-10-31T00:00:00.000000000",
          "2024-11-01T00:00:00.000000000",
          "2024-11-02T00:00:00.000000000",
          "2024-11-03T00:00:00.000000000",
          "2024-11-04T00:00:00.000000000",
          "2024-11-05T00:00:00.000000000",
          "2024-11-06T00:00:00.000000000",
          "2024-11-07T00:00:00.000000000",
          "2024-11-08T00:00:00.000000000",
          "2024-11-09T00:00:00.000000000",
          "2024-11-10T00:00:00.000000000",
          "2024-11-11T00:00:00.000000000",
          "2024-11-12T00:00:00.000000000",
          "2024-11-13T00:00:00.000000000",
          "2024-11-14T00:00:00.000000000",
          "2024-11-15T00:00:00.000000000",
          "2024-11-16T00:00:00.000000000",
          "2024-11-17T00:00:00.000000000",
          "2024-11-18T00:00:00.000000000",
          "2024-11-19T00:00:00.000000000",
          "2024-11-20T00:00:00.000000000",
          "2024-11-21T00:00:00.000000000",
          "2024-11-22T00:00:00.000000000",
          "2024-11-23T00:00:00.000000000",
          "2024-11-24T00:00:00.000000000",
          "2024-11-25T00:00:00.000000000",
          "2024-11-26T00:00:00.000000000",
          "2024-11-27T00:00:00.000000000",
          "2024-11-28T00:00:00.000000000",
          "2024-11-29T00:00:00.000000000",
          "2024-11-30T00:00:00.000000000",
          "2024-12-01T00:00:00.000000000",
          "2024-12-02T00:00:00.000000000",
          "2024-12-03T00:00:00.000000000",
          "2024-12-04T00:00:00.000000000",
          "2024-12-05T00:00:00.000000000",
          "2024-12-06T00:00:00.000000000",
          "2024-12-07T00:00:00.000000000",
          "2024-12-08T00:00:00.000000000",
          "2024-12-09T00:00:00.000000000",
          "2024-12-10T00:00:00.000000000",
          "2024-12-11T00:00:00.000000000",
          "2024-12-12T00:00:00.000000000",
          "2024-12-13T00:00:00.000000000",
          "2024-12-14T00:00:00.000000000",
          "2024-12-15T00:00:00.000000000",
          "2024-12-16T00:00:00.000000000",
          "2024-12-17T00:00:00.000000000",
          "2024-12-18T00:00:00.000000000",
          "2024-12-19T00:00:00.000000000",
          "2024-12-20T00:00:00.000000000",
          "2024-12-21T00:00:00.000000000",
          "2024-12-22T00:00:00.000000000",
          "2024-12-23T00:00:00.000000000",
          "2024-12-24T00:00:00.000000000",
          "2024-12-25T00:00:00.000000000",
          "2024-12-26T00:00:00.000000000",
          "2024-12-27T00:00:00.000000000",
          "2024-12-28T00:00:00.000000000",
          "2024-12-29T00:00:00.000000000",
          "2024-12-30T00:00:00.000000000",
          "2024-12-31T00:00:00.000000000",
          "2025-01-01T00:00:00.000000000"
         ],
         "y": {
          "bdata": "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",
          "dtype": "f8"
         }
        }
       ],
       "layout": {
        "hovermode": "x unified",
        "template": {
         "data": {
          "bar": [
           {
            "error_x": {
             "color": "#2a3f5f"
            },
            "error_y": {
             "color": "#2a3f5f"
            },
            "marker": {
             "line": {
              "color": "white",
              "width": 0.5
             },
             "pattern": {
              "fillmode": "overlay",
              "size": 10,
              "solidity": 0.2
             }
            },
            "type": "bar"
           }
          ],
          "barpolar": [
           {
            "marker": {
             "line": {
              "color": "white",
              "width": 0.5
             },
             "pattern": {
              "fillmode": "overlay",
              "size": 10,
              "solidity": 0.2
             }
            },
            "type": "barpolar"
           }
          ],
          "carpet": [
           {
            "aaxis": {
             "endlinecolor": "#2a3f5f",
             "gridcolor": "#C8D4E3",
             "linecolor": "#C8D4E3",
             "minorgridcolor": "#C8D4E3",
             "startlinecolor": "#2a3f5f"
            },
            "baxis": {
             "endlinecolor": "#2a3f5f",
             "gridcolor": "#C8D4E3",
             "linecolor": "#C8D4E3",
             "minorgridcolor": "#C8D4E3",
             "startlinecolor": "#2a3f5f"
            },
            "type": "carpet"
           }
          ],
          "choropleth": [
           {
            "colorbar": {
             "outlinewidth": 0,
             "ticks": ""
            },
            "type": "choropleth"
           }
          ],
          "contour": [
           {
            "colorbar": {
             "outlinewidth": 0,
             "ticks": ""
            },
            "colorscale": [
             [
              0,
              "#0d0887"
             ],
             [
              0.1111111111111111,
              "#46039f"
             ],
             [
              0.2222222222222222,
              "#7201a8"
             ],
             [
              0.3333333333333333,
              "#9c179e"
             ],
             [
              0.4444444444444444,
              "#bd3786"
             ],
             [
              0.5555555555555556,
              "#d8576b"
             ],
             [
              0.6666666666666666,
              "#ed7953"
             ],
             [
              0.7777777777777778,
              "#fb9f3a"
             ],
             [
              0.8888888888888888,
              "#fdca26"
             ],
             [
              1,
              "#f0f921"
             ]
            ],
            "type": "contour"
           }
          ],
          "contourcarpet": [
           {
            "colorbar": {
             "outlinewidth": 0,
             "ticks": ""
            },
            "type": "contourcarpet"
           }
          ],
          "heatmap": [
           {
            "colorbar": {
             "outlinewidth": 0,
             "ticks": ""
            },
            "colorscale": [
             [
              0,
              "#0d0887"
             ],
             [
              0.1111111111111111,
              "#46039f"
             ],
             [
              0.2222222222222222,
              "#7201a8"
             ],
             [
              0.3333333333333333,
              "#9c179e"
             ],
             [
              0.4444444444444444,
              "#bd3786"
             ],
             [
              0.5555555555555556,
              "#d8576b"
             ],
             [
              0.6666666666666666,
              "#ed7953"
             ],
             [
              0.7777777777777778,
              "#fb9f3a"
             ],
             [
              0.8888888888888888,
              "#fdca26"
             ],
             [
              1,
              "#f0f921"
             ]
            ],
            "type": "heatmap"
           }
          ],
          "histogram": [
           {
            "marker": {
             "pattern": {
              "fillmode": "overlay",
              "size": 10,
              "solidity": 0.2
             }
            },
            "type": "histogram"
           }
          ],
          "histogram2d": [
           {
            "colorbar": {
             "outlinewidth": 0,
             "ticks": ""
            },
            "colorscale": [
             [
              0,
              "#0d0887"
             ],
             [
              0.1111111111111111,
              "#46039f"
             ],
             [
              0.2222222222222222,
              "#7201a8"
             ],
             [
              0.3333333333333333,
              "#9c179e"
             ],
             [
              0.4444444444444444,
              "#bd3786"
             ],
             [
              0.5555555555555556,
              "#d8576b"
             ],
             [
              0.6666666666666666,
              "#ed7953"
             ],
             [
              0.7777777777777778,
              "#fb9f3a"
             ],
             [
              0.8888888888888888,
              "#fdca26"
             ],
             [
              1,
              "#f0f921"
             ]
            ],
            "type": "histogram2d"
           }
          ],
          "histogram2dcontour": [
           {
            "colorbar": {
             "outlinewidth": 0,
             "ticks": ""
            },
            "colorscale": [
             [
              0,
              "#0d0887"
             ],
             [
              0.1111111111111111,
              "#46039f"
             ],
             [
              0.2222222222222222,
              "#7201a8"
             ],
             [
              0.3333333333333333,
              "#9c179e"
             ],
             [
              0.4444444444444444,
              "#bd3786"
             ],
             [
              0.5555555555555556,
              "#d8576b"
             ],
             [
              0.6666666666666666,
              "#ed7953"
             ],
             [
              0.7777777777777778,
              "#fb9f3a"
             ],
             [
              0.8888888888888888,
              "#fdca26"
             ],
             [
              1,
              "#f0f921"
             ]
            ],
            "type": "histogram2dcontour"
           }
          ],
          "mesh3d": [
           {
            "colorbar": {
             "outlinewidth": 0,
             "ticks": ""
            },
            "type": "mesh3d"
           }
          ],
          "parcoords": [
           {
            "line": {
             "colorbar": {
              "outlinewidth": 0,
              "ticks": ""
             }
            },
            "type": "parcoords"
           }
          ],
          "pie": [
           {
            "automargin": true,
            "type": "pie"
           }
          ],
          "scatter": [
           {
            "fillpattern": {
             "fillmode": "overlay",
             "size": 10,
             "solidity": 0.2
            },
            "type": "scatter"
           }
          ],
          "scatter3d": [
           {
            "line": {
             "colorbar": {
              "outlinewidth": 0,
              "ticks": ""
             }
            },
            "marker": {
             "colorbar": {
              "outlinewidth": 0,
              "ticks": ""
             }
            },
            "type": "scatter3d"
           }
          ],
          "scattercarpet": [
           {
            "marker": {
             "colorbar": {
              "outlinewidth": 0,
              "ticks": ""
             }
            },
            "type": "scattercarpet"
           }
          ],
          "scattergeo": [
           {
            "marker": {
             "colorbar": {
              "outlinewidth": 0,
              "ticks": ""
             }
            },
            "type": "scattergeo"
           }
          ],
          "scattergl": [
           {
            "marker": {
             "colorbar": {
              "outlinewidth": 0,
              "ticks": ""
             }
            },
            "type": "scattergl"
           }
          ],
          "scattermap": [
           {
            "marker": {
             "colorbar": {
              "outlinewidth": 0,
              "ticks": ""
             }
            },
            "type": "scattermap"
           }
          ],
          "scattermapbox": [
           {
            "marker": {
             "colorbar": {
              "outlinewidth": 0,
              "ticks": ""
             }
            },
            "type": "scattermapbox"
           }
          ],
          "scatterpolar": [
           {
            "marker": {
             "colorbar": {
              "outlinewidth": 0,
              "ticks": ""
             }
            },
            "type": "scatterpolar"
           }
          ],
          "scatterpolargl": [
           {
            "marker": {
             "colorbar": {
              "outlinewidth": 0,
              "ticks": ""
             }
            },
            "type": "scatterpolargl"
           }
          ],
          "scatterternary": [
           {
            "marker": {
             "colorbar": {
              "outlinewidth": 0,
              "ticks": ""
             }
            },
            "type": "scatterternary"
           }
          ],
          "surface": [
           {
            "colorbar": {
             "outlinewidth": 0,
             "ticks": ""
            },
            "colorscale": [
             [
              0,
              "#0d0887"
             ],
             [
              0.1111111111111111,
              "#46039f"
             ],
             [
              0.2222222222222222,
              "#7201a8"
             ],
             [
              0.3333333333333333,
              "#9c179e"
             ],
             [
              0.4444444444444444,
              "#bd3786"
             ],
             [
              0.5555555555555556,
              "#d8576b"
             ],
             [
              0.6666666666666666,
              "#ed7953"
             ],
             [
              0.7777777777777778,
              "#fb9f3a"
             ],
             [
              0.8888888888888888,
              "#fdca26"
             ],
             [
              1,
              "#f0f921"
             ]
            ],
            "type": "surface"
           }
          ],
          "table": [
           {
            "cells": {
             "fill": {
              "color": "#EBF0F8"
             },
             "line": {
              "color": "white"
             }
            },
            "header": {
             "fill": {
              "color": "#C8D4E3"
             },
             "line": {
              "color": "white"
             }
            },
            "type": "table"
           }
          ]
         },
         "layout": {
          "annotationdefaults": {
           "arrowcolor": "#2a3f5f",
           "arrowhead": 0,
           "arrowwidth": 1
          },
          "autotypenumbers": "strict",
          "coloraxis": {
           "colorbar": {
            "outlinewidth": 0,
            "ticks": ""
           }
          },
          "colorscale": {
           "diverging": [
            [
             0,
             "#8e0152"
            ],
            [
             0.1,
             "#c51b7d"
            ],
            [
             0.2,
             "#de77ae"
            ],
            [
             0.3,
             "#f1b6da"
            ],
            [
             0.4,
             "#fde0ef"
            ],
            [
             0.5,
             "#f7f7f7"
            ],
            [
             0.6,
             "#e6f5d0"
            ],
            [
             0.7,
             "#b8e186"
            ],
            [
             0.8,
             "#7fbc41"
            ],
            [
             0.9,
             "#4d9221"
            ],
            [
             1,
             "#276419"
            ]
           ],
           "sequential": [
            [
             0,
             "#0d0887"
            ],
            [
             0.1111111111111111,
             "#46039f"
            ],
            [
             0.2222222222222222,
             "#7201a8"
            ],
            [
             0.3333333333333333,
             "#9c179e"
            ],
            [
             0.4444444444444444,
             "#bd3786"
            ],
            [
             0.5555555555555556,
             "#d8576b"
            ],
            [
             0.6666666666666666,
             "#ed7953"
            ],
            [
             0.7777777777777778,
             "#fb9f3a"
            ],
            [
             0.8888888888888888,
             "#fdca26"
            ],
            [
             1,
             "#f0f921"
            ]
           ],
           "sequentialminus": [
            [
             0,
             "#0d0887"
            ],
            [
             0.1111111111111111,
             "#46039f"
            ],
            [
             0.2222222222222222,
             "#7201a8"
            ],
            [
             0.3333333333333333,
             "#9c179e"
            ],
            [
             0.4444444444444444,
             "#bd3786"
            ],
            [
             0.5555555555555556,
             "#d8576b"
            ],
            [
             0.6666666666666666,
             "#ed7953"
            ],
            [
             0.7777777777777778,
             "#fb9f3a"
            ],
            [
             0.8888888888888888,
             "#fdca26"
            ],
            [
             1,
             "#f0f921"
            ]
           ]
          },
          "colorway": [
           "#636efa",
           "#EF553B",
           "#00cc96",
           "#ab63fa",
           "#FFA15A",
           "#19d3f3",
           "#FF6692",
           "#B6E880",
           "#FF97FF",
           "#FECB52"
          ],
          "font": {
           "color": "#2a3f5f"
          },
          "geo": {
           "bgcolor": "white",
           "lakecolor": "white",
           "landcolor": "white",
           "showlakes": true,
           "showland": true,
           "subunitcolor": "#C8D4E3"
          },
          "hoverlabel": {
           "align": "left"
          },
          "hovermode": "closest",
          "mapbox": {
           "style": "light"
          },
          "paper_bgcolor": "white",
          "plot_bgcolor": "white",
          "polar": {
           "angularaxis": {
            "gridcolor": "#EBF0F8",
            "linecolor": "#EBF0F8",
            "ticks": ""
           },
           "bgcolor": "white",
           "radialaxis": {
            "gridcolor": "#EBF0F8",
            "linecolor": "#EBF0F8",
            "ticks": ""
           }
          },
          "scene": {
           "xaxis": {
            "backgroundcolor": "white",
            "gridcolor": "#DFE8F3",
            "gridwidth": 2,
            "linecolor": "#EBF0F8",
            "showbackground": true,
            "ticks": "",
            "zerolinecolor": "#EBF0F8"
           },
           "yaxis": {
            "backgroundcolor": "white",
            "gridcolor": "#DFE8F3",
            "gridwidth": 2,
            "linecolor": "#EBF0F8",
            "showbackground": true,
            "ticks": "",
            "zerolinecolor": "#EBF0F8"
           },
           "zaxis": {
            "backgroundcolor": "white",
            "gridcolor": "#DFE8F3",
            "gridwidth": 2,
            "linecolor": "#EBF0F8",
            "showbackground": true,
            "ticks": "",
            "zerolinecolor": "#EBF0F8"
           }
          },
          "shapedefaults": {
           "line": {
            "color": "#2a3f5f"
           }
          },
          "ternary": {
           "aaxis": {
            "gridcolor": "#DFE8F3",
            "linecolor": "#A2B1C6",
            "ticks": ""
           },
           "baxis": {
            "gridcolor": "#DFE8F3",
            "linecolor": "#A2B1C6",
            "ticks": ""
           },
           "bgcolor": "white",
           "caxis": {
            "gridcolor": "#DFE8F3",
            "linecolor": "#A2B1C6",
            "ticks": ""
           }
          },
          "title": {
           "x": 0.05
          },
          "xaxis": {
           "automargin": true,
           "gridcolor": "#EBF0F8",
           "linecolor": "#EBF0F8",
           "ticks": "",
           "title": {
            "standoff": 15
           },
           "zerolinecolor": "#EBF0F8",
           "zerolinewidth": 2
          },
          "yaxis": {
           "automargin": true,
           "gridcolor": "#EBF0F8",
           "linecolor": "#EBF0F8",
           "ticks": "",
           "title": {
            "standoff": 15
           },
           "zerolinecolor": "#EBF0F8",
           "zerolinewidth": 2
          }
         }
        },
        "title": {
         "text": "RandomForest – Test Forecast"
        },
        "xaxis": {
         "title": {
          "text": "Date"
         }
        },
        "yaxis": {
         "title": {
          "text": "MWh"
         }
        }
       }
      }
     },
     "metadata": {},
     "output_type": "display_data"
    },
    {
     "data": {
      "application/vnd.plotly.v1+json": {
       "config": {
        "plotlyServerURL": "https://plot.ly"
       },
       "data": [
        {
         "mode": "lines",
         "name": "Actual",
         "type": "scatter",
         "x": [
          "2024-01-01T00:00:00.000000000",
          "2024-01-02T00:00:00.000000000",
          "2024-01-03T00:00:00.000000000",
          "2024-01-04T00:00:00.000000000",
          "2024-01-05T00:00:00.000000000",
          "2024-01-06T00:00:00.000000000",
          "2024-01-07T00:00:00.000000000",
          "2024-01-08T00:00:00.000000000",
          "2024-01-09T00:00:00.000000000",
          "2024-01-10T00:00:00.000000000",
          "2024-01-11T00:00:00.000000000",
          "2024-01-12T00:00:00.000000000",
          "2024-01-13T00:00:00.000000000",
          "2024-01-14T00:00:00.000000000",
          "2024-01-15T00:00:00.000000000",
          "2024-01-16T00:00:00.000000000",
          "2024-01-17T00:00:00.000000000",
          "2024-01-18T00:00:00.000000000",
          "2024-01-19T00:00:00.000000000",
          "2024-01-20T00:00:00.000000000",
          "2024-01-21T00:00:00.000000000",
          "2024-01-22T00:00:00.000000000",
          "2024-01-23T00:00:00.000000000",
          "2024-01-24T00:00:00.000000000",
          "2024-01-25T00:00:00.000000000",
          "2024-01-26T00:00:00.000000000",
          "2024-01-27T00:00:00.000000000",
          "2024-01-28T00:00:00.000000000",
          "2024-01-29T00:00:00.000000000",
          "2024-01-30T00:00:00.000000000",
          "2024-01-31T00:00:00.000000000",
          "2024-02-01T00:00:00.000000000",
          "2024-02-02T00:00:00.000000000",
          "2024-02-03T00:00:00.000000000",
          "2024-02-04T00:00:00.000000000",
          "2024-02-05T00:00:00.000000000",
          "2024-02-06T00:00:00.000000000",
          "2024-02-07T00:00:00.000000000",
          "2024-02-08T00:00:00.000000000",
          "2024-02-09T00:00:00.000000000",
          "2024-02-10T00:00:00.000000000",
          "2024-02-11T00:00:00.000000000",
          "2024-02-12T00:00:00.000000000",
          "2024-02-13T00:00:00.000000000",
          "2024-02-14T00:00:00.000000000",
          "2024-02-15T00:00:00.000000000",
          "2024-02-16T00:00:00.000000000",
          "2024-02-17T00:00:00.000000000",
          "2024-02-18T00:00:00.000000000",
          "2024-02-19T00:00:00.000000000",
          "2024-02-20T00:00:00.000000000",
          "2024-02-21T00:00:00.000000000",
          "2024-02-22T00:00:00.000000000",
          "2024-02-23T00:00:00.000000000",
          "2024-02-24T00:00:00.000000000",
          "2024-02-25T00:00:00.000000000",
          "2024-02-26T00:00:00.000000000",
          "2024-02-27T00:00:00.000000000",
          "2024-02-28T00:00:00.000000000",
          "2024-02-29T00:00:00.000000000",
          "2024-03-01T00:00:00.000000000",
          "2024-03-02T00:00:00.000000000",
          "2024-03-03T00:00:00.000000000",
          "2024-03-04T00:00:00.000000000",
          "2024-03-05T00:00:00.000000000",
          "2024-03-06T00:00:00.000000000",
          "2024-03-07T00:00:00.000000000",
          "2024-03-08T00:00:00.000000000",
          "2024-03-09T00:00:00.000000000",
          "2024-03-10T00:00:00.000000000",
          "2024-03-11T00:00:00.000000000",
          "2024-03-12T00:00:00.000000000",
          "2024-03-13T00:00:00.000000000",
          "2024-03-14T00:00:00.000000000",
          "2024-03-15T00:00:00.000000000",
          "2024-03-16T00:00:00.000000000",
          "2024-03-17T00:00:00.000000000",
          "2024-03-18T00:00:00.000000000",
          "2024-03-19T00:00:00.000000000",
          "2024-03-20T00:00:00.000000000",
          "2024-03-21T00:00:00.000000000",
          "2024-03-22T00:00:00.000000000",
          "2024-03-23T00:00:00.000000000",
          "2024-03-24T00:00:00.000000000",
          "2024-03-25T00:00:00.000000000",
          "2024-03-26T00:00:00.000000000",
          "2024-03-27T00:00:00.000000000",
          "2024-03-28T00:00:00.000000000",
          "2024-03-29T00:00:00.000000000",
          "2024-03-30T00:00:00.000000000",
          "2024-03-31T00:00:00.000000000",
          "2024-04-01T00:00:00.000000000",
          "2024-04-02T00:00:00.000000000",
          "2024-04-03T00:00:00.000000000",
          "2024-04-04T00:00:00.000000000",
          "2024-04-05T00:00:00.000000000",
          "2024-04-06T00:00:00.000000000",
          "2024-04-07T00:00:00.000000000",
          "2024-04-08T00:00:00.000000000",
          "2024-04-09T00:00:00.000000000",
          "2024-04-10T00:00:00.000000000",
          "2024-04-11T00:00:00.000000000",
          "2024-04-12T00:00:00.000000000",
          "2024-04-13T00:00:00.000000000",
          "2024-04-14T00:00:00.000000000",
          "2024-04-15T00:00:00.000000000",
          "2024-04-16T00:00:00.000000000",
          "2024-04-17T00:00:00.000000000",
          "2024-04-18T00:00:00.000000000",
          "2024-04-19T00:00:00.000000000",
          "2024-04-20T00:00:00.000000000",
          "2024-04-21T00:00:00.000000000",
          "2024-04-22T00:00:00.000000000",
          "2024-04-23T00:00:00.000000000",
          "2024-04-24T00:00:00.000000000",
          "2024-04-25T00:00:00.000000000",
          "2024-04-26T00:00:00.000000000",
          "2024-04-27T00:00:00.000000000",
          "2024-04-28T00:00:00.000000000",
          "2024-04-29T00:00:00.000000000",
          "2024-04-30T00:00:00.000000000",
          "2024-05-01T00:00:00.000000000",
          "2024-05-02T00:00:00.000000000",
          "2024-05-03T00:00:00.000000000",
          "2024-05-04T00:00:00.000000000",
          "2024-05-05T00:00:00.000000000",
          "2024-05-06T00:00:00.000000000",
          "2024-05-07T00:00:00.000000000",
          "2024-05-08T00:00:00.000000000",
          "2024-05-09T00:00:00.000000000",
          "2024-05-10T00:00:00.000000000",
          "2024-05-11T00:00:00.000000000",
          "2024-05-12T00:00:00.000000000",
          "2024-05-13T00:00:00.000000000",
          "2024-05-14T00:00:00.000000000",
          "2024-05-15T00:00:00.000000000",
          "2024-05-16T00:00:00.000000000",
          "2024-05-17T00:00:00.000000000",
          "2024-05-18T00:00:00.000000000",
          "2024-05-19T00:00:00.000000000",
          "2024-05-20T00:00:00.000000000",
          "2024-05-21T00:00:00.000000000",
          "2024-05-22T00:00:00.000000000",
          "2024-05-23T00:00:00.000000000",
          "2024-05-24T00:00:00.000000000",
          "2024-05-25T00:00:00.000000000",
          "2024-05-26T00:00:00.000000000",
          "2024-05-27T00:00:00.000000000",
          "2024-05-28T00:00:00.000000000",
          "2024-05-29T00:00:00.000000000",
          "2024-05-30T00:00:00.000000000",
          "2024-05-31T00:00:00.000000000",
          "2024-06-01T00:00:00.000000000",
          "2024-06-02T00:00:00.000000000",
          "2024-06-03T00:00:00.000000000",
          "2024-06-04T00:00:00.000000000",
          "2024-06-05T00:00:00.000000000",
          "2024-06-06T00:00:00.000000000",
          "2024-06-07T00:00:00.000000000",
          "2024-06-08T00:00:00.000000000",
          "2024-06-09T00:00:00.000000000",
          "2024-06-10T00:00:00.000000000",
          "2024-06-11T00:00:00.000000000",
          "2024-06-12T00:00:00.000000000",
          "2024-06-13T00:00:00.000000000",
          "2024-06-14T00:00:00.000000000",
          "2024-06-15T00:00:00.000000000",
          "2024-06-16T00:00:00.000000000",
          "2024-06-17T00:00:00.000000000",
          "2024-06-18T00:00:00.000000000",
          "2024-06-19T00:00:00.000000000",
          "2024-06-20T00:00:00.000000000",
          "2024-06-21T00:00:00.000000000",
          "2024-06-22T00:00:00.000000000",
          "2024-06-23T00:00:00.000000000",
          "2024-06-24T00:00:00.000000000",
          "2024-06-25T00:00:00.000000000",
          "2024-06-26T00:00:00.000000000",
          "2024-06-27T00:00:00.000000000",
          "2024-06-28T00:00:00.000000000",
          "2024-06-29T00:00:00.000000000",
          "2024-06-30T00:00:00.000000000",
          "2024-07-01T00:00:00.000000000",
          "2024-07-02T00:00:00.000000000",
          "2024-07-03T00:00:00.000000000",
          "2024-07-04T00:00:00.000000000",
          "2024-07-05T00:00:00.000000000",
          "2024-07-06T00:00:00.000000000",
          "2024-07-07T00:00:00.000000000",
          "2024-07-08T00:00:00.000000000",
          "2024-07-09T00:00:00.000000000",
          "2024-07-10T00:00:00.000000000",
          "2024-07-11T00:00:00.000000000",
          "2024-07-12T00:00:00.000000000",
          "2024-07-13T00:00:00.000000000",
          "2024-07-14T00:00:00.000000000",
          "2024-07-15T00:00:00.000000000",
          "2024-07-16T00:00:00.000000000",
          "2024-07-17T00:00:00.000000000",
          "2024-07-18T00:00:00.000000000",
          "2024-07-19T00:00:00.000000000",
          "2024-07-20T00:00:00.000000000",
          "2024-07-21T00:00:00.000000000",
          "2024-07-22T00:00:00.000000000",
          "2024-07-23T00:00:00.000000000",
          "2024-07-24T00:00:00.000000000",
          "2024-07-25T00:00:00.000000000",
          "2024-07-26T00:00:00.000000000",
          "2024-07-27T00:00:00.000000000",
          "2024-07-28T00:00:00.000000000",
          "2024-07-29T00:00:00.000000000",
          "2024-07-30T00:00:00.000000000",
          "2024-07-31T00:00:00.000000000",
          "2024-08-01T00:00:00.000000000",
          "2024-08-02T00:00:00.000000000",
          "2024-08-03T00:00:00.000000000",
          "2024-08-04T00:00:00.000000000",
          "2024-08-05T00:00:00.000000000",
          "2024-08-06T00:00:00.000000000",
          "2024-08-07T00:00:00.000000000",
          "2024-08-08T00:00:00.000000000",
          "2024-08-09T00:00:00.000000000",
          "2024-08-10T00:00:00.000000000",
          "2024-08-11T00:00:00.000000000",
          "2024-08-12T00:00:00.000000000",
          "2024-08-13T00:00:00.000000000",
          "2024-08-14T00:00:00.000000000",
          "2024-08-15T00:00:00.000000000",
          "2024-08-16T00:00:00.000000000",
          "2024-08-17T00:00:00.000000000",
          "2024-08-18T00:00:00.000000000",
          "2024-08-19T00:00:00.000000000",
          "2024-08-20T00:00:00.000000000",
          "2024-08-21T00:00:00.000000000",
          "2024-08-22T00:00:00.000000000",
          "2024-08-23T00:00:00.000000000",
          "2024-08-24T00:00:00.000000000",
          "2024-08-25T00:00:00.000000000",
          "2024-08-26T00:00:00.000000000",
          "2024-08-27T00:00:00.000000000",
          "2024-08-28T00:00:00.000000000",
          "2024-08-29T00:00:00.000000000",
          "2024-08-30T00:00:00.000000000",
          "2024-08-31T00:00:00.000000000",
          "2024-09-01T00:00:00.000000000",
          "2024-09-02T00:00:00.000000000",
          "2024-09-03T00:00:00.000000000",
          "2024-09-04T00:00:00.000000000",
          "2024-09-05T00:00:00.000000000",
          "2024-09-06T00:00:00.000000000",
          "2024-09-07T00:00:00.000000000",
          "2024-09-08T00:00:00.000000000",
          "2024-09-09T00:00:00.000000000",
          "2024-09-10T00:00:00.000000000",
          "2024-09-11T00:00:00.000000000",
          "2024-09-12T00:00:00.000000000",
          "2024-09-13T00:00:00.000000000",
          "2024-09-14T00:00:00.000000000",
          "2024-09-15T00:00:00.000000000",
          "2024-09-16T00:00:00.000000000",
          "2024-09-17T00:00:00.000000000",
          "2024-09-18T00:00:00.000000000",
          "2024-09-19T00:00:00.000000000",
          "2024-09-20T00:00:00.000000000",
          "2024-09-21T00:00:00.000000000",
          "2024-09-22T00:00:00.000000000",
          "2024-09-23T00:00:00.000000000",
          "2024-09-24T00:00:00.000000000",
          "2024-09-25T00:00:00.000000000",
          "2024-09-26T00:00:00.000000000",
          "2024-09-27T00:00:00.000000000",
          "2024-09-28T00:00:00.000000000",
          "2024-09-29T00:00:00.000000000",
          "2024-09-30T00:00:00.000000000",
          "2024-10-01T00:00:00.000000000",
          "2024-10-02T00:00:00.000000000",
          "2024-10-03T00:00:00.000000000",
          "2024-10-04T00:00:00.000000000",
          "2024-10-05T00:00:00.000000000",
          "2024-10-06T00:00:00.000000000",
          "2024-10-07T00:00:00.000000000",
          "2024-10-08T00:00:00.000000000",
          "2024-10-09T00:00:00.000000000",
          "2024-10-10T00:00:00.000000000",
          "2024-10-11T00:00:00.000000000",
          "2024-10-12T00:00:00.000000000",
          "2024-10-13T00:00:00.000000000",
          "2024-10-14T00:00:00.000000000",
          "2024-10-15T00:00:00.000000000",
          "2024-10-16T00:00:00.000000000",
          "2024-10-17T00:00:00.000000000",
          "2024-10-18T00:00:00.000000000",
          "2024-10-19T00:00:00.000000000",
          "2024-10-20T00:00:00.000000000",
          "2024-10-21T00:00:00.000000000",
          "2024-10-22T00:00:00.000000000",
          "2024-10-23T00:00:00.000000000",
          "2024-10-24T00:00:00.000000000",
          "2024-10-25T00:00:00.000000000",
          "2024-10-26T00:00:00.000000000",
          "2024-10-27T00:00:00.000000000",
          "2024-10-28T00:00:00.000000000",
          "2024-10-29T00:00:00.000000000",
          "2024-10-30T00:00:00.000000000",
          "2024-10-31T00:00:00.000000000",
          "2024-11-01T00:00:00.000000000",
          "2024-11-02T00:00:00.000000000",
          "2024-11-03T00:00:00.000000000",
          "2024-11-04T00:00:00.000000000",
          "2024-11-05T00:00:00.000000000",
          "2024-11-06T00:00:00.000000000",
          "2024-11-07T00:00:00.000000000",
          "2024-11-08T00:00:00.000000000",
          "2024-11-09T00:00:00.000000000",
          "2024-11-10T00:00:00.000000000",
          "2024-11-11T00:00:00.000000000",
          "2024-11-12T00:00:00.000000000",
          "2024-11-13T00:00:00.000000000",
          "2024-11-14T00:00:00.000000000",
          "2024-11-15T00:00:00.000000000",
          "2024-11-16T00:00:00.000000000",
          "2024-11-17T00:00:00.000000000",
          "2024-11-18T00:00:00.000000000",
          "2024-11-19T00:00:00.000000000",
          "2024-11-20T00:00:00.000000000",
          "2024-11-21T00:00:00.000000000",
          "2024-11-22T00:00:00.000000000",
          "2024-11-23T00:00:00.000000000",
          "2024-11-24T00:00:00.000000000",
          "2024-11-25T00:00:00.000000000",
          "2024-11-26T00:00:00.000000000",
          "2024-11-27T00:00:00.000000000",
          "2024-11-28T00:00:00.000000000",
          "2024-11-29T00:00:00.000000000",
          "2024-11-30T00:00:00.000000000",
          "2024-12-01T00:00:00.000000000",
          "2024-12-02T00:00:00.000000000",
          "2024-12-03T00:00:00.000000000",
          "2024-12-04T00:00:00.000000000",
          "2024-12-05T00:00:00.000000000",
          "2024-12-06T00:00:00.000000000",
          "2024-12-07T00:00:00.000000000",
          "2024-12-08T00:00:00.000000000",
          "2024-12-09T00:00:00.000000000",
          "2024-12-10T00:00:00.000000000",
          "2024-12-11T00:00:00.000000000",
          "2024-12-12T00:00:00.000000000",
          "2024-12-13T00:00:00.000000000",
          "2024-12-14T00:00:00.000000000",
          "2024-12-15T00:00:00.000000000",
          "2024-12-16T00:00:00.000000000",
          "2024-12-17T00:00:00.000000000",
          "2024-12-18T00:00:00.000000000",
          "2024-12-19T00:00:00.000000000",
          "2024-12-20T00:00:00.000000000",
          "2024-12-21T00:00:00.000000000",
          "2024-12-22T00:00:00.000000000",
          "2024-12-23T00:00:00.000000000",
          "2024-12-24T00:00:00.000000000",
          "2024-12-25T00:00:00.000000000",
          "2024-12-26T00:00:00.000000000",
          "2024-12-27T00:00:00.000000000",
          "2024-12-28T00:00:00.000000000",
          "2024-12-29T00:00:00.000000000",
          "2024-12-30T00:00:00.000000000",
          "2024-12-31T00:00:00.000000000",
          "2025-01-01T00:00:00.000000000"
         ],
         "y": {
          "bdata": "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",
          "dtype": "f8"
         }
        },
        {
         "mode": "lines",
         "name": "XGB",
         "opacity": 0.7,
         "type": "scatter",
         "x": [
          "2024-01-01T00:00:00.000000000",
          "2024-01-02T00:00:00.000000000",
          "2024-01-03T00:00:00.000000000",
          "2024-01-04T00:00:00.000000000",
          "2024-01-05T00:00:00.000000000",
          "2024-01-06T00:00:00.000000000",
          "2024-01-07T00:00:00.000000000",
          "2024-01-08T00:00:00.000000000",
          "2024-01-09T00:00:00.000000000",
          "2024-01-10T00:00:00.000000000",
          "2024-01-11T00:00:00.000000000",
          "2024-01-12T00:00:00.000000000",
          "2024-01-13T00:00:00.000000000",
          "2024-01-14T00:00:00.000000000",
          "2024-01-15T00:00:00.000000000",
          "2024-01-16T00:00:00.000000000",
          "2024-01-17T00:00:00.000000000",
          "2024-01-18T00:00:00.000000000",
          "2024-01-19T00:00:00.000000000",
          "2024-01-20T00:00:00.000000000",
          "2024-01-21T00:00:00.000000000",
          "2024-01-22T00:00:00.000000000",
          "2024-01-23T00:00:00.000000000",
          "2024-01-24T00:00:00.000000000",
          "2024-01-25T00:00:00.000000000",
          "2024-01-26T00:00:00.000000000",
          "2024-01-27T00:00:00.000000000",
          "2024-01-28T00:00:00.000000000",
          "2024-01-29T00:00:00.000000000",
          "2024-01-30T00:00:00.000000000",
          "2024-01-31T00:00:00.000000000",
          "2024-02-01T00:00:00.000000000",
          "2024-02-02T00:00:00.000000000",
          "2024-02-03T00:00:00.000000000",
          "2024-02-04T00:00:00.000000000",
          "2024-02-05T00:00:00.000000000",
          "2024-02-06T00:00:00.000000000",
          "2024-02-07T00:00:00.000000000",
          "2024-02-08T00:00:00.000000000",
          "2024-02-09T00:00:00.000000000",
          "2024-02-10T00:00:00.000000000",
          "2024-02-11T00:00:00.000000000",
          "2024-02-12T00:00:00.000000000",
          "2024-02-13T00:00:00.000000000",
          "2024-02-14T00:00:00.000000000",
          "2024-02-15T00:00:00.000000000",
          "2024-02-16T00:00:00.000000000",
          "2024-02-17T00:00:00.000000000",
          "2024-02-18T00:00:00.000000000",
          "2024-02-19T00:00:00.000000000",
          "2024-02-20T00:00:00.000000000",
          "2024-02-21T00:00:00.000000000",
          "2024-02-22T00:00:00.000000000",
          "2024-02-23T00:00:00.000000000",
          "2024-02-24T00:00:00.000000000",
          "2024-02-25T00:00:00.000000000",
          "2024-02-26T00:00:00.000000000",
          "2024-02-27T00:00:00.000000000",
          "2024-02-28T00:00:00.000000000",
          "2024-02-29T00:00:00.000000000",
          "2024-03-01T00:00:00.000000000",
          "2024-03-02T00:00:00.000000000",
          "2024-03-03T00:00:00.000000000",
          "2024-03-04T00:00:00.000000000",
          "2024-03-05T00:00:00.000000000",
          "2024-03-06T00:00:00.000000000",
          "2024-03-07T00:00:00.000000000",
          "2024-03-08T00:00:00.000000000",
          "2024-03-09T00:00:00.000000000",
          "2024-03-10T00:00:00.000000000",
          "2024-03-11T00:00:00.000000000",
          "2024-03-12T00:00:00.000000000",
          "2024-03-13T00:00:00.000000000",
          "2024-03-14T00:00:00.000000000",
          "2024-03-15T00:00:00.000000000",
          "2024-03-16T00:00:00.000000000",
          "2024-03-17T00:00:00.000000000",
          "2024-03-18T00:00:00.000000000",
          "2024-03-19T00:00:00.000000000",
          "2024-03-20T00:00:00.000000000",
          "2024-03-21T00:00:00.000000000",
          "2024-03-22T00:00:00.000000000",
          "2024-03-23T00:00:00.000000000",
          "2024-03-24T00:00:00.000000000",
          "2024-03-25T00:00:00.000000000",
          "2024-03-26T00:00:00.000000000",
          "2024-03-27T00:00:00.000000000",
          "2024-03-28T00:00:00.000000000",
          "2024-03-29T00:00:00.000000000",
          "2024-03-30T00:00:00.000000000",
          "2024-03-31T00:00:00.000000000",
          "2024-04-01T00:00:00.000000000",
          "2024-04-02T00:00:00.000000000",
          "2024-04-03T00:00:00.000000000",
          "2024-04-04T00:00:00.000000000",
          "2024-04-05T00:00:00.000000000",
          "2024-04-06T00:00:00.000000000",
          "2024-04-07T00:00:00.000000000",
          "2024-04-08T00:00:00.000000000",
          "2024-04-09T00:00:00.000000000",
          "2024-04-10T00:00:00.000000000",
          "2024-04-11T00:00:00.000000000",
          "2024-04-12T00:00:00.000000000",
          "2024-04-13T00:00:00.000000000",
          "2024-04-14T00:00:00.000000000",
          "2024-04-15T00:00:00.000000000",
          "2024-04-16T00:00:00.000000000",
          "2024-04-17T00:00:00.000000000",
          "2024-04-18T00:00:00.000000000",
          "2024-04-19T00:00:00.000000000",
          "2024-04-20T00:00:00.000000000",
          "2024-04-21T00:00:00.000000000",
          "2024-04-22T00:00:00.000000000",
          "2024-04-23T00:00:00.000000000",
          "2024-04-24T00:00:00.000000000",
          "2024-04-25T00:00:00.000000000",
          "2024-04-26T00:00:00.000000000",
          "2024-04-27T00:00:00.000000000",
          "2024-04-28T00:00:00.000000000",
          "2024-04-29T00:00:00.000000000",
          "2024-04-30T00:00:00.000000000",
          "2024-05-01T00:00:00.000000000",
          "2024-05-02T00:00:00.000000000",
          "2024-05-03T00:00:00.000000000",
          "2024-05-04T00:00:00.000000000",
          "2024-05-05T00:00:00.000000000",
          "2024-05-06T00:00:00.000000000",
          "2024-05-07T00:00:00.000000000",
          "2024-05-08T00:00:00.000000000",
          "2024-05-09T00:00:00.000000000",
          "2024-05-10T00:00:00.000000000",
          "2024-05-11T00:00:00.000000000",
          "2024-05-12T00:00:00.000000000",
          "2024-05-13T00:00:00.000000000",
          "2024-05-14T00:00:00.000000000",
          "2024-05-15T00:00:00.000000000",
          "2024-05-16T00:00:00.000000000",
          "2024-05-17T00:00:00.000000000",
          "2024-05-18T00:00:00.000000000",
          "2024-05-19T00:00:00.000000000",
          "2024-05-20T00:00:00.000000000",
          "2024-05-21T00:00:00.000000000",
          "2024-05-22T00:00:00.000000000",
          "2024-05-23T00:00:00.000000000",
          "2024-05-24T00:00:00.000000000",
          "2024-05-25T00:00:00.000000000",
          "2024-05-26T00:00:00.000000000",
          "2024-05-27T00:00:00.000000000",
          "2024-05-28T00:00:00.000000000",
          "2024-05-29T00:00:00.000000000",
          "2024-05-30T00:00:00.000000000",
          "2024-05-31T00:00:00.000000000",
          "2024-06-01T00:00:00.000000000",
          "2024-06-02T00:00:00.000000000",
          "2024-06-03T00:00:00.000000000",
          "2024-06-04T00:00:00.000000000",
          "2024-06-05T00:00:00.000000000",
          "2024-06-06T00:00:00.000000000",
          "2024-06-07T00:00:00.000000000",
          "2024-06-08T00:00:00.000000000",
          "2024-06-09T00:00:00.000000000",
          "2024-06-10T00:00:00.000000000",
          "2024-06-11T00:00:00.000000000",
          "2024-06-12T00:00:00.000000000",
          "2024-06-13T00:00:00.000000000",
          "2024-06-14T00:00:00.000000000",
          "2024-06-15T00:00:00.000000000",
          "2024-06-16T00:00:00.000000000",
          "2024-06-17T00:00:00.000000000",
          "2024-06-18T00:00:00.000000000",
          "2024-06-19T00:00:00.000000000",
          "2024-06-20T00:00:00.000000000",
          "2024-06-21T00:00:00.000000000",
          "2024-06-22T00:00:00.000000000",
          "2024-06-23T00:00:00.000000000",
          "2024-06-24T00:00:00.000000000",
          "2024-06-25T00:00:00.000000000",
          "2024-06-26T00:00:00.000000000",
          "2024-06-27T00:00:00.000000000",
          "2024-06-28T00:00:00.000000000",
          "2024-06-29T00:00:00.000000000",
          "2024-06-30T00:00:00.000000000",
          "2024-07-01T00:00:00.000000000",
          "2024-07-02T00:00:00.000000000",
          "2024-07-03T00:00:00.000000000",
          "2024-07-04T00:00:00.000000000",
          "2024-07-05T00:00:00.000000000",
          "2024-07-06T00:00:00.000000000",
          "2024-07-07T00:00:00.000000000",
          "2024-07-08T00:00:00.000000000",
          "2024-07-09T00:00:00.000000000",
          "2024-07-10T00:00:00.000000000",
          "2024-07-11T00:00:00.000000000",
          "2024-07-12T00:00:00.000000000",
          "2024-07-13T00:00:00.000000000",
          "2024-07-14T00:00:00.000000000",
          "2024-07-15T00:00:00.000000000",
          "2024-07-16T00:00:00.000000000",
          "2024-07-17T00:00:00.000000000",
          "2024-07-18T00:00:00.000000000",
          "2024-07-19T00:00:00.000000000",
          "2024-07-20T00:00:00.000000000",
          "2024-07-21T00:00:00.000000000",
          "2024-07-22T00:00:00.000000000",
          "2024-07-23T00:00:00.000000000",
          "2024-07-24T00:00:00.000000000",
          "2024-07-25T00:00:00.000000000",
          "2024-07-26T00:00:00.000000000",
          "2024-07-27T00:00:00.000000000",
          "2024-07-28T00:00:00.000000000",
          "2024-07-29T00:00:00.000000000",
          "2024-07-30T00:00:00.000000000",
          "2024-07-31T00:00:00.000000000",
          "2024-08-01T00:00:00.000000000",
          "2024-08-02T00:00:00.000000000",
          "2024-08-03T00:00:00.000000000",
          "2024-08-04T00:00:00.000000000",
          "2024-08-05T00:00:00.000000000",
          "2024-08-06T00:00:00.000000000",
          "2024-08-07T00:00:00.000000000",
          "2024-08-08T00:00:00.000000000",
          "2024-08-09T00:00:00.000000000",
          "2024-08-10T00:00:00.000000000",
          "2024-08-11T00:00:00.000000000",
          "2024-08-12T00:00:00.000000000",
          "2024-08-13T00:00:00.000000000",
          "2024-08-14T00:00:00.000000000",
          "2024-08-15T00:00:00.000000000",
          "2024-08-16T00:00:00.000000000",
          "2024-08-17T00:00:00.000000000",
          "2024-08-18T00:00:00.000000000",
          "2024-08-19T00:00:00.000000000",
          "2024-08-20T00:00:00.000000000",
          "2024-08-21T00:00:00.000000000",
          "2024-08-22T00:00:00.000000000",
          "2024-08-23T00:00:00.000000000",
          "2024-08-24T00:00:00.000000000",
          "2024-08-25T00:00:00.000000000",
          "2024-08-26T00:00:00.000000000",
          "2024-08-27T00:00:00.000000000",
          "2024-08-28T00:00:00.000000000",
          "2024-08-29T00:00:00.000000000",
          "2024-08-30T00:00:00.000000000",
          "2024-08-31T00:00:00.000000000",
          "2024-09-01T00:00:00.000000000",
          "2024-09-02T00:00:00.000000000",
          "2024-09-03T00:00:00.000000000",
          "2024-09-04T00:00:00.000000000",
          "2024-09-05T00:00:00.000000000",
          "2024-09-06T00:00:00.000000000",
          "2024-09-07T00:00:00.000000000",
          "2024-09-08T00:00:00.000000000",
          "2024-09-09T00:00:00.000000000",
          "2024-09-10T00:00:00.000000000",
          "2024-09-11T00:00:00.000000000",
          "2024-09-12T00:00:00.000000000",
          "2024-09-13T00:00:00.000000000",
          "2024-09-14T00:00:00.000000000",
          "2024-09-15T00:00:00.000000000",
          "2024-09-16T00:00:00.000000000",
          "2024-09-17T00:00:00.000000000",
          "2024-09-18T00:00:00.000000000",
          "2024-09-19T00:00:00.000000000",
          "2024-09-20T00:00:00.000000000",
          "2024-09-21T00:00:00.000000000",
          "2024-09-22T00:00:00.000000000",
          "2024-09-23T00:00:00.000000000",
          "2024-09-24T00:00:00.000000000",
          "2024-09-25T00:00:00.000000000",
          "2024-09-26T00:00:00.000000000",
          "2024-09-27T00:00:00.000000000",
          "2024-09-28T00:00:00.000000000",
          "2024-09-29T00:00:00.000000000",
          "2024-09-30T00:00:00.000000000",
          "2024-10-01T00:00:00.000000000",
          "2024-10-02T00:00:00.000000000",
          "2024-10-03T00:00:00.000000000",
          "2024-10-04T00:00:00.000000000",
          "2024-10-05T00:00:00.000000000",
          "2024-10-06T00:00:00.000000000",
          "2024-10-07T00:00:00.000000000",
          "2024-10-08T00:00:00.000000000",
          "2024-10-09T00:00:00.000000000",
          "2024-10-10T00:00:00.000000000",
          "2024-10-11T00:00:00.000000000",
          "2024-10-12T00:00:00.000000000",
          "2024-10-13T00:00:00.000000000",
          "2024-10-14T00:00:00.000000000",
          "2024-10-15T00:00:00.000000000",
          "2024-10-16T00:00:00.000000000",
          "2024-10-17T00:00:00.000000000",
          "2024-10-18T00:00:00.000000000",
          "2024-10-19T00:00:00.000000000",
          "2024-10-20T00:00:00.000000000",
          "2024-10-21T00:00:00.000000000",
          "2024-10-22T00:00:00.000000000",
          "2024-10-23T00:00:00.000000000",
          "2024-10-24T00:00:00.000000000",
          "2024-10-25T00:00:00.000000000",
          "2024-10-26T00:00:00.000000000",
          "2024-10-27T00:00:00.000000000",
          "2024-10-28T00:00:00.000000000",
          "2024-10-29T00:00:00.000000000",
          "2024-10-30T00:00:00.000000000",
          "2024-10-31T00:00:00.000000000",
          "2024-11-01T00:00:00.000000000",
          "2024-11-02T00:00:00.000000000",
          "2024-11-03T00:00:00.000000000",
          "2024-11-04T00:00:00.000000000",
          "2024-11-05T00:00:00.000000000",
          "2024-11-06T00:00:00.000000000",
          "2024-11-07T00:00:00.000000000",
          "2024-11-08T00:00:00.000000000",
          "2024-11-09T00:00:00.000000000",
          "2024-11-10T00:00:00.000000000",
          "2024-11-11T00:00:00.000000000",
          "2024-11-12T00:00:00.000000000",
          "2024-11-13T00:00:00.000000000",
          "2024-11-14T00:00:00.000000000",
          "2024-11-15T00:00:00.000000000",
          "2024-11-16T00:00:00.000000000",
          "2024-11-17T00:00:00.000000000",
          "2024-11-18T00:00:00.000000000",
          "2024-11-19T00:00:00.000000000",
          "2024-11-20T00:00:00.000000000",
          "2024-11-21T00:00:00.000000000",
          "2024-11-22T00:00:00.000000000",
          "2024-11-23T00:00:00.000000000",
          "2024-11-24T00:00:00.000000000",
          "2024-11-25T00:00:00.000000000",
          "2024-11-26T00:00:00.000000000",
          "2024-11-27T00:00:00.000000000",
          "2024-11-28T00:00:00.000000000",
          "2024-11-29T00:00:00.000000000",
          "2024-11-30T00:00:00.000000000",
          "2024-12-01T00:00:00.000000000",
          "2024-12-02T00:00:00.000000000",
          "2024-12-03T00:00:00.000000000",
          "2024-12-04T00:00:00.000000000",
          "2024-12-05T00:00:00.000000000",
          "2024-12-06T00:00:00.000000000",
          "2024-12-07T00:00:00.000000000",
          "2024-12-08T00:00:00.000000000",
          "2024-12-09T00:00:00.000000000",
          "2024-12-10T00:00:00.000000000",
          "2024-12-11T00:00:00.000000000",
          "2024-12-12T00:00:00.000000000",
          "2024-12-13T00:00:00.000000000",
          "2024-12-14T00:00:00.000000000",
          "2024-12-15T00:00:00.000000000",
          "2024-12-16T00:00:00.000000000",
          "2024-12-17T00:00:00.000000000",
          "2024-12-18T00:00:00.000000000",
          "2024-12-19T00:00:00.000000000",
          "2024-12-20T00:00:00.000000000",
          "2024-12-21T00:00:00.000000000",
          "2024-12-22T00:00:00.000000000",
          "2024-12-23T00:00:00.000000000",
          "2024-12-24T00:00:00.000000000",
          "2024-12-25T00:00:00.000000000",
          "2024-12-26T00:00:00.000000000",
          "2024-12-27T00:00:00.000000000",
          "2024-12-28T00:00:00.000000000",
          "2024-12-29T00:00:00.000000000",
          "2024-12-30T00:00:00.000000000",
          "2024-12-31T00:00:00.000000000",
          "2025-01-01T00:00:00.000000000"
         ],
         "y": {
          "bdata": "KIanSRldVkkNd15JiVxjSan2YElXT1NJjXhBSQwAXklawWVJRhxsSVSfcEl2CG5JzCJhSY/bTEkDiWdJjb1xScBAckk5yG5Jn9lrScWGXkkt8UdJZoxeSdaVakl6p2xJ3wRrSftHbUktr2JJGP1LSS3bY0nknW9JB8lxSWwAckkw8G1JJqZjSYJbS0kskVtJLNtpSXu3ZkmjbWRJ0Z9hSY3WVklMJ0FJ9o1ZSXXRX0kvqGNJcXNpSSSZZkl9MVxJwrtISRvCYEl1OGpJ5jNpSdKUakkwkGZJiXZZSWExPUmOUllJQtleSWnpX0mZwmFJyVNdSRNnU0kdjEBJsI5cScAhYEmobWNJY4pmSaAkZEkxh1pJgM5HSdcmYkkEOGNJPH1iSSpBY0nu4l5Jx8ZXSe7NQUnq5V1JYzthSbB+X0nMuWNJkIhjSQolWElbAENJ8tJcSboVZEkji2NJH29gSaHrWEmUf0pJBVgxSXjxSUkHk01JG/tSSYuJUklGgFJJ2dxGSYuKNkkrOk1J8Mo+SdtMGEkG1g5JwNUNSRC5IknTbB9J0CU0SVhnSUlfX09JkNdSSeg4U0mfe05J/Xk6SbZ8U0ma6khJIedSSZQnW0mW2VpJ8uxTSZn5P0mXNlZJoftcSYotT0ldSlNJqDtWSRh4Tkn4YD5JIj5VSe/IV0kDu1hJp9paSddDW0lzbE9JykNASVBcVEkW+lxJGwxdSZ8BXUk7aV9JPLxUSYquPkkP7VZJGBpfSasnYkktSGNJhvlhSZDYVUnBfTxJzdtVSR1sWUmwOltJPUxbScMAWUmc7E9JvjpBScbxV0nwKGdJPPZnSYYrc0lr/nRJVztoSZWHUUkL4mxJbRF4SaB7fEljKoJJ2b6ESVS2b0noUDhJsAlBSRnsO0k9wDFJxWpDSZCdXEnwJVtJYQ5NSVUjaEkQOn9JW7mBSUTpgkkJDoJJ36d7Sao5ZEn1kH5JlCeCSZoihkl6KYZJtoeGSU8TekmYKmRJYzB7SZcah0lfrYdJjyOISRmlh0n31YFJmcFqSdE1d0mvK4BJTqiGScTDhkna54VJtQqDSRoqb0kQEYVJGYKHSfmlh0k9K4hJ0yOHSTQCgklQ8HFJ3eiBSbXehklLf4hJbA2JSflHiEkrAYNJ6YdsSeDjg0llfYdJrumGSci4h0mCbIdJT2iASZ3+aUm4nINJ2EyISa96iElB2odJo1eHSbrLgEntr2pJIBeBSWGgh0nYeYdJpIGHSUELh0n1vX5JKDJqSTfheUmxh4VJ9QaGSSZ0hUmkj4BJ1r1tSd1uVUlUYWZJ1hdzSZOIdkmSqXdJ7Pt2STiiaknPWlJJBe5tSU+CdEmZcXZJZTBzSQaBcEkXAWhJPxdRSf4OaElgHmpJh8trSf7taEliVWRJUolZSe6KPkl96VNJsJRaSTh6WknxH1xJ2SpbSfLxUknaJj9JRwtZSV+cWUnF1VdJr8VWSf72VEkIY05JS2Q7SREeVElouVdJyvxZSW9UWkm5kllJDwNOSXrFOknmGFVJ60tXSdCaWEnc3VhJ5E5WSdbQTEk0azlJKpVTSRAlW0meVmBJ9PNdScizXUnurFNJLj88SeqmU0nLeDlJYfFPSb/zWUlqhVxJtwBQSWg6PUkeSFVJn0BgSQtFY0n9JGNJcs9jSWkMWEmKu0JJvWZeSS0XY0knOWNJQ5ZiSSlNYUnznFhJWsZDSQ0HYUmFHGhJxstnSUSAaEkriGZJeFpaSScNRUl8g2RJw9lsSeS1ckm4B3FJLMtuSQUNYUl6FUhJUNNjSXEJbklCt29JUcVwSUjJbknl8mRJ9oNMSZveZEmyHGpJflJrSZsHbkm2Xm9J9lNmSbPNUEn6cmxJ1FN3SeXXdUkZeXVJKlx0SVRLa0kaxFFJrz9qSbADcEkPoXJJ9MpwSducbkmgomRJmjJmSdA7cUkCSnBJRe+PSQ==",
          "dtype": "f4"
         }
        }
       ],
       "layout": {
        "hovermode": "x unified",
        "template": {
         "data": {
          "bar": [
           {
            "error_x": {
             "color": "#2a3f5f"
            },
            "error_y": {
             "color": "#2a3f5f"
            },
            "marker": {
             "line": {
              "color": "white",
              "width": 0.5
             },
             "pattern": {
              "fillmode": "overlay",
              "size": 10,
              "solidity": 0.2
             }
            },
            "type": "bar"
           }
          ],
          "barpolar": [
           {
            "marker": {
             "line": {
              "color": "white",
              "width": 0.5
             },
             "pattern": {
              "fillmode": "overlay",
              "size": 10,
              "solidity": 0.2
             }
            },
            "type": "barpolar"
           }
          ],
          "carpet": [
           {
            "aaxis": {
             "endlinecolor": "#2a3f5f",
             "gridcolor": "#C8D4E3",
             "linecolor": "#C8D4E3",
             "minorgridcolor": "#C8D4E3",
             "startlinecolor": "#2a3f5f"
            },
            "baxis": {
             "endlinecolor": "#2a3f5f",
             "gridcolor": "#C8D4E3",
             "linecolor": "#C8D4E3",
             "minorgridcolor": "#C8D4E3",
             "startlinecolor": "#2a3f5f"
            },
            "type": "carpet"
           }
          ],
          "choropleth": [
           {
            "colorbar": {
             "outlinewidth": 0,
             "ticks": ""
            },
            "type": "choropleth"
           }
          ],
          "contour": [
           {
            "colorbar": {
             "outlinewidth": 0,
             "ticks": ""
            },
            "colorscale": [
             [
              0,
              "#0d0887"
             ],
             [
              0.1111111111111111,
              "#46039f"
             ],
             [
              0.2222222222222222,
              "#7201a8"
             ],
             [
              0.3333333333333333,
              "#9c179e"
             ],
             [
              0.4444444444444444,
              "#bd3786"
             ],
             [
              0.5555555555555556,
              "#d8576b"
             ],
             [
              0.6666666666666666,
              "#ed7953"
             ],
             [
              0.7777777777777778,
              "#fb9f3a"
             ],
             [
              0.8888888888888888,
              "#fdca26"
             ],
             [
              1,
              "#f0f921"
             ]
            ],
            "type": "contour"
           }
          ],
          "contourcarpet": [
           {
            "colorbar": {
             "outlinewidth": 0,
             "ticks": ""
            },
            "type": "contourcarpet"
           }
          ],
          "heatmap": [
           {
            "colorbar": {
             "outlinewidth": 0,
             "ticks": ""
            },
            "colorscale": [
             [
              0,
              "#0d0887"
             ],
             [
              0.1111111111111111,
              "#46039f"
             ],
             [
              0.2222222222222222,
              "#7201a8"
             ],
             [
              0.3333333333333333,
              "#9c179e"
             ],
             [
              0.4444444444444444,
              "#bd3786"
             ],
             [
              0.5555555555555556,
              "#d8576b"
             ],
             [
              0.6666666666666666,
              "#ed7953"
             ],
             [
              0.7777777777777778,
              "#fb9f3a"
             ],
             [
              0.8888888888888888,
              "#fdca26"
             ],
             [
              1,
              "#f0f921"
             ]
            ],
            "type": "heatmap"
           }
          ],
          "histogram": [
           {
            "marker": {
             "pattern": {
              "fillmode": "overlay",
              "size": 10,
              "solidity": 0.2
             }
            },
            "type": "histogram"
           }
          ],
          "histogram2d": [
           {
            "colorbar": {
             "outlinewidth": 0,
             "ticks": ""
            },
            "colorscale": [
             [
              0,
              "#0d0887"
             ],
             [
              0.1111111111111111,
              "#46039f"
             ],
             [
              0.2222222222222222,
              "#7201a8"
             ],
             [
              0.3333333333333333,
              "#9c179e"
             ],
             [
              0.4444444444444444,
              "#bd3786"
             ],
             [
              0.5555555555555556,
              "#d8576b"
             ],
             [
              0.6666666666666666,
              "#ed7953"
             ],
             [
              0.7777777777777778,
              "#fb9f3a"
             ],
             [
              0.8888888888888888,
              "#fdca26"
             ],
             [
              1,
              "#f0f921"
             ]
            ],
            "type": "histogram2d"
           }
          ],
          "histogram2dcontour": [
           {
            "colorbar": {
             "outlinewidth": 0,
             "ticks": ""
            },
            "colorscale": [
             [
              0,
              "#0d0887"
             ],
             [
              0.1111111111111111,
              "#46039f"
             ],
             [
              0.2222222222222222,
              "#7201a8"
             ],
             [
              0.3333333333333333,
              "#9c179e"
             ],
             [
              0.4444444444444444,
              "#bd3786"
             ],
             [
              0.5555555555555556,
              "#d8576b"
             ],
             [
              0.6666666666666666,
              "#ed7953"
             ],
             [
              0.7777777777777778,
              "#fb9f3a"
             ],
             [
              0.8888888888888888,
              "#fdca26"
             ],
             [
              1,
              "#f0f921"
             ]
            ],
            "type": "histogram2dcontour"
           }
          ],
          "mesh3d": [
           {
            "colorbar": {
             "outlinewidth": 0,
             "ticks": ""
            },
            "type": "mesh3d"
           }
          ],
          "parcoords": [
           {
            "line": {
             "colorbar": {
              "outlinewidth": 0,
              "ticks": ""
             }
            },
            "type": "parcoords"
           }
          ],
          "pie": [
           {
            "automargin": true,
            "type": "pie"
           }
          ],
          "scatter": [
           {
            "fillpattern": {
             "fillmode": "overlay",
             "size": 10,
             "solidity": 0.2
            },
            "type": "scatter"
           }
          ],
          "scatter3d": [
           {
            "line": {
             "colorbar": {
              "outlinewidth": 0,
              "ticks": ""
             }
            },
            "marker": {
             "colorbar": {
              "outlinewidth": 0,
              "ticks": ""
             }
            },
            "type": "scatter3d"
           }
          ],
          "scattercarpet": [
           {
            "marker": {
             "colorbar": {
              "outlinewidth": 0,
              "ticks": ""
             }
            },
            "type": "scattercarpet"
           }
          ],
          "scattergeo": [
           {
            "marker": {
             "colorbar": {
              "outlinewidth": 0,
              "ticks": ""
             }
            },
            "type": "scattergeo"
           }
          ],
          "scattergl": [
           {
            "marker": {
             "colorbar": {
              "outlinewidth": 0,
              "ticks": ""
             }
            },
            "type": "scattergl"
           }
          ],
          "scattermap": [
           {
            "marker": {
             "colorbar": {
              "outlinewidth": 0,
              "ticks": ""
             }
            },
            "type": "scattermap"
           }
          ],
          "scattermapbox": [
           {
            "marker": {
             "colorbar": {
              "outlinewidth": 0,
              "ticks": ""
             }
            },
            "type": "scattermapbox"
           }
          ],
          "scatterpolar": [
           {
            "marker": {
             "colorbar": {
              "outlinewidth": 0,
              "ticks": ""
             }
            },
            "type": "scatterpolar"
           }
          ],
          "scatterpolargl": [
           {
            "marker": {
             "colorbar": {
              "outlinewidth": 0,
              "ticks": ""
             }
            },
            "type": "scatterpolargl"
           }
          ],
          "scatterternary": [
           {
            "marker": {
             "colorbar": {
              "outlinewidth": 0,
              "ticks": ""
             }
            },
            "type": "scatterternary"
           }
          ],
          "surface": [
           {
            "colorbar": {
             "outlinewidth": 0,
             "ticks": ""
            },
            "colorscale": [
             [
              0,
              "#0d0887"
             ],
             [
              0.1111111111111111,
              "#46039f"
             ],
             [
              0.2222222222222222,
              "#7201a8"
             ],
             [
              0.3333333333333333,
              "#9c179e"
             ],
             [
              0.4444444444444444,
              "#bd3786"
             ],
             [
              0.5555555555555556,
              "#d8576b"
             ],
             [
              0.6666666666666666,
              "#ed7953"
             ],
             [
              0.7777777777777778,
              "#fb9f3a"
             ],
             [
              0.8888888888888888,
              "#fdca26"
             ],
             [
              1,
              "#f0f921"
             ]
            ],
            "type": "surface"
           }
          ],
          "table": [
           {
            "cells": {
             "fill": {
              "color": "#EBF0F8"
             },
             "line": {
              "color": "white"
             }
            },
            "header": {
             "fill": {
              "color": "#C8D4E3"
             },
             "line": {
              "color": "white"
             }
            },
            "type": "table"
           }
          ]
         },
         "layout": {
          "annotationdefaults": {
           "arrowcolor": "#2a3f5f",
           "arrowhead": 0,
           "arrowwidth": 1
          },
          "autotypenumbers": "strict",
          "coloraxis": {
           "colorbar": {
            "outlinewidth": 0,
            "ticks": ""
           }
          },
          "colorscale": {
           "diverging": [
            [
             0,
             "#8e0152"
            ],
            [
             0.1,
             "#c51b7d"
            ],
            [
             0.2,
             "#de77ae"
            ],
            [
             0.3,
             "#f1b6da"
            ],
            [
             0.4,
             "#fde0ef"
            ],
            [
             0.5,
             "#f7f7f7"
            ],
            [
             0.6,
             "#e6f5d0"
            ],
            [
             0.7,
             "#b8e186"
            ],
            [
             0.8,
             "#7fbc41"
            ],
            [
             0.9,
             "#4d9221"
            ],
            [
             1,
             "#276419"
            ]
           ],
           "sequential": [
            [
             0,
             "#0d0887"
            ],
            [
             0.1111111111111111,
             "#46039f"
            ],
            [
             0.2222222222222222,
             "#7201a8"
            ],
            [
             0.3333333333333333,
             "#9c179e"
            ],
            [
             0.4444444444444444,
             "#bd3786"
            ],
            [
             0.5555555555555556,
             "#d8576b"
            ],
            [
             0.6666666666666666,
             "#ed7953"
            ],
            [
             0.7777777777777778,
             "#fb9f3a"
            ],
            [
             0.8888888888888888,
             "#fdca26"
            ],
            [
             1,
             "#f0f921"
            ]
           ],
           "sequentialminus": [
            [
             0,
             "#0d0887"
            ],
            [
             0.1111111111111111,
             "#46039f"
            ],
            [
             0.2222222222222222,
             "#7201a8"
            ],
            [
             0.3333333333333333,
             "#9c179e"
            ],
            [
             0.4444444444444444,
             "#bd3786"
            ],
            [
             0.5555555555555556,
             "#d8576b"
            ],
            [
             0.6666666666666666,
             "#ed7953"
            ],
            [
             0.7777777777777778,
             "#fb9f3a"
            ],
            [
             0.8888888888888888,
             "#fdca26"
            ],
            [
             1,
             "#f0f921"
            ]
           ]
          },
          "colorway": [
           "#636efa",
           "#EF553B",
           "#00cc96",
           "#ab63fa",
           "#FFA15A",
           "#19d3f3",
           "#FF6692",
           "#B6E880",
           "#FF97FF",
           "#FECB52"
          ],
          "font": {
           "color": "#2a3f5f"
          },
          "geo": {
           "bgcolor": "white",
           "lakecolor": "white",
           "landcolor": "white",
           "showlakes": true,
           "showland": true,
           "subunitcolor": "#C8D4E3"
          },
          "hoverlabel": {
           "align": "left"
          },
          "hovermode": "closest",
          "mapbox": {
           "style": "light"
          },
          "paper_bgcolor": "white",
          "plot_bgcolor": "white",
          "polar": {
           "angularaxis": {
            "gridcolor": "#EBF0F8",
            "linecolor": "#EBF0F8",
            "ticks": ""
           },
           "bgcolor": "white",
           "radialaxis": {
            "gridcolor": "#EBF0F8",
            "linecolor": "#EBF0F8",
            "ticks": ""
           }
          },
          "scene": {
           "xaxis": {
            "backgroundcolor": "white",
            "gridcolor": "#DFE8F3",
            "gridwidth": 2,
            "linecolor": "#EBF0F8",
            "showbackground": true,
            "ticks": "",
            "zerolinecolor": "#EBF0F8"
           },
           "yaxis": {
            "backgroundcolor": "white",
            "gridcolor": "#DFE8F3",
            "gridwidth": 2,
            "linecolor": "#EBF0F8",
            "showbackground": true,
            "ticks": "",
            "zerolinecolor": "#EBF0F8"
           },
           "zaxis": {
            "backgroundcolor": "white",
            "gridcolor": "#DFE8F3",
            "gridwidth": 2,
            "linecolor": "#EBF0F8",
            "showbackground": true,
            "ticks": "",
            "zerolinecolor": "#EBF0F8"
           }
          },
          "shapedefaults": {
           "line": {
            "color": "#2a3f5f"
           }
          },
          "ternary": {
           "aaxis": {
            "gridcolor": "#DFE8F3",
            "linecolor": "#A2B1C6",
            "ticks": ""
           },
           "baxis": {
            "gridcolor": "#DFE8F3",
            "linecolor": "#A2B1C6",
            "ticks": ""
           },
           "bgcolor": "white",
           "caxis": {
            "gridcolor": "#DFE8F3",
            "linecolor": "#A2B1C6",
            "ticks": ""
           }
          },
          "title": {
           "x": 0.05
          },
          "xaxis": {
           "automargin": true,
           "gridcolor": "#EBF0F8",
           "linecolor": "#EBF0F8",
           "ticks": "",
           "title": {
            "standoff": 15
           },
           "zerolinecolor": "#EBF0F8",
           "zerolinewidth": 2
          },
          "yaxis": {
           "automargin": true,
           "gridcolor": "#EBF0F8",
           "linecolor": "#EBF0F8",
           "ticks": "",
           "title": {
            "standoff": 15
           },
           "zerolinecolor": "#EBF0F8",
           "zerolinewidth": 2
          }
         }
        },
        "title": {
         "text": "XGB – Test Forecast"
        },
        "xaxis": {
         "title": {
          "text": "Date"
         }
        },
        "yaxis": {
         "title": {
          "text": "MWh"
         }
        }
       }
      }
     },
     "metadata": {},
     "output_type": "display_data"
    }
   ],
   "source": [
    "# ML pipeline & Result charts\n",
    "CSV_PATH = './data/bileşik_tüketim.csv'   \n",
    "TRAIN_END = '2023-12-31'\n",
    "\n",
    "df = build_dataset(CSV_PATH, drop_outliers=False)\n",
    "train = df[df['Date'] <= TRAIN_END]\n",
    "test  = df[df['Date'] >  TRAIN_END]\n",
    "\n",
    "models = train_models(train)\n",
    "metrics = evaluate(models, test)"
   ]
  },
  {
   "cell_type": "code",
   "execution_count": 15,
   "id": "24be4ca2",
   "metadata": {},
   "outputs": [
    {
     "data": {
      "text/html": [
       "<style type=\"text/css\">\n",
       "#T_0b402_row0_col1, #T_0b402_row0_col2, #T_0b402_row0_col3, #T_0b402_row0_col4, #T_0b402_row0_col5 {\n",
       "  background-color: lightgreen;\n",
       "}\n",
       "</style>\n",
       "<table id=\"T_0b402\">\n",
       "  <caption>Model comparison on 2024 test set</caption>\n",
       "  <thead>\n",
       "    <tr>\n",
       "      <th class=\"blank level0\" >&nbsp;</th>\n",
       "      <th id=\"T_0b402_level0_col0\" class=\"col_heading level0 col0\" >model</th>\n",
       "      <th id=\"T_0b402_level0_col1\" class=\"col_heading level0 col1\" >MAE</th>\n",
       "      <th id=\"T_0b402_level0_col2\" class=\"col_heading level0 col2\" >RMSE</th>\n",
       "      <th id=\"T_0b402_level0_col3\" class=\"col_heading level0 col3\" >MAPE_%</th>\n",
       "      <th id=\"T_0b402_level0_col4\" class=\"col_heading level0 col4\" >sMAPE_%</th>\n",
       "      <th id=\"T_0b402_level0_col5\" class=\"col_heading level0 col5\" >R2</th>\n",
       "    </tr>\n",
       "  </thead>\n",
       "  <tbody>\n",
       "    <tr>\n",
       "      <th id=\"T_0b402_level0_row0\" class=\"row_heading level0 row0\" >0</th>\n",
       "      <td id=\"T_0b402_row0_col0\" class=\"data row0 col0\" >XGB</td>\n",
       "      <td id=\"T_0b402_row0_col1\" class=\"data row0 col1\" >20220</td>\n",
       "      <td id=\"T_0b402_row0_col2\" class=\"data row0 col2\" >34777</td>\n",
       "      <td id=\"T_0b402_row0_col3\" class=\"data row0 col3\" >2.15</td>\n",
       "      <td id=\"T_0b402_row0_col4\" class=\"data row0 col4\" >2.13</td>\n",
       "      <td id=\"T_0b402_row0_col5\" class=\"data row0 col5\" >0.903</td>\n",
       "    </tr>\n",
       "    <tr>\n",
       "      <th id=\"T_0b402_level0_row1\" class=\"row_heading level0 row1\" >1</th>\n",
       "      <td id=\"T_0b402_row1_col0\" class=\"data row1 col0\" >RandomForest</td>\n",
       "      <td id=\"T_0b402_row1_col1\" class=\"data row1 col1\" >21066</td>\n",
       "      <td id=\"T_0b402_row1_col2\" class=\"data row1 col2\" >38103</td>\n",
       "      <td id=\"T_0b402_row1_col3\" class=\"data row1 col3\" >2.28</td>\n",
       "      <td id=\"T_0b402_row1_col4\" class=\"data row1 col4\" >2.24</td>\n",
       "      <td id=\"T_0b402_row1_col5\" class=\"data row1 col5\" >0.883</td>\n",
       "    </tr>\n",
       "    <tr>\n",
       "      <th id=\"T_0b402_level0_row2\" class=\"row_heading level0 row2\" >2</th>\n",
       "      <td id=\"T_0b402_row2_col0\" class=\"data row2 col0\" >Ridge</td>\n",
       "      <td id=\"T_0b402_row2_col1\" class=\"data row2 col1\" >23890</td>\n",
       "      <td id=\"T_0b402_row2_col2\" class=\"data row2 col2\" >42726</td>\n",
       "      <td id=\"T_0b402_row2_col3\" class=\"data row2 col3\" >2.64</td>\n",
       "      <td id=\"T_0b402_row2_col4\" class=\"data row2 col4\" >2.62</td>\n",
       "      <td id=\"T_0b402_row2_col5\" class=\"data row2 col5\" >0.853</td>\n",
       "    </tr>\n",
       "  </tbody>\n",
       "</table>\n"
      ],
      "text/plain": [
       "<pandas.io.formats.style.Styler at 0x114b28cead0>"
      ]
     },
     "metadata": {},
     "output_type": "display_data"
    },
    {
     "data": {
      "application/vnd.jupyter.widget-view+json": {
       "model_id": "24f041ffde45480bbc57b746b62bb437",
       "version_major": 2,
       "version_minor": 0
      },
      "image/png": "[encoded data removed]",
      "text/html": [
       "\n",
       "            <div style=\"display: inline-block;\">\n",
       "                <div class=\"jupyter-widgets widget-label\" style=\"text-align: center;\">\n",
       "                    Figure\n",
       "                </div>\n",
       "                <img src='data:image/png;base64,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' width=800.0/>\n",
       "            </div>\n",
       "        "
      ],
      "text/plain": [
       "Canvas(toolbar=Toolbar(toolitems=[('Home', 'Reset original view', 'home', 'home'), ('Back', 'Back to previous …"
      ]
     },
     "metadata": {},
     "output_type": "display_data"
    }
   ],
   "source": [
    "# Comparison metrics&table\n",
    "results = metrics.sort_values('MAE').reset_index(drop=True)\n",
    "\n",
    "styled = (results.style\n",
    "          .format({'MAE':'{:.0f}', 'RMSE':'{:.0f}',\n",
    "                   'MAPE_%':'{:.2f}', 'sMAPE_%':'{:.2f}', 'R2':'{:.3f}'})\n",
    "          .highlight_min(subset=['MAE','RMSE','MAPE_%','sMAPE_%'],\n",
    "                         color='lightgreen')\n",
    "          .highlight_max(subset=['R2'], color='lightgreen')\n",
    "          .set_caption('Model comparison on 2024 test set'))\n",
    "display(styled)\n",
    "\n",
    "plt.figure(figsize=(8,4))\n",
    "plt.bar(results['model'], results['MAE'])\n",
    "plt.ylabel('MAE (MWh)')\n",
    "plt.title('Mean Absolute Error by model')\n",
    "plt.grid(axis='y')\n",
    "plt.show()"
   ]
  }
 ],
 "metadata": {
  "kernelspec": {
   "display_name": ".venv",
   "language": "python",
   "name": "python3"
  },
  "language_info": {
   "codemirror_mode": {
    "name": "ipython",
    "version": 3
   },
   "file_extension": ".py",
   "mimetype": "text/x-python",
   "name": "python",
   "nbconvert_exporter": "python",
   "pygments_lexer": "ipython3",
   "version": "3.13.2"
  }
 },
 "nbformat": 4,
 "nbformat_minor": 5
}
